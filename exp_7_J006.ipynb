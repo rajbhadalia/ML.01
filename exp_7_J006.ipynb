{
  "nbformat": 4,
  "nbformat_minor": 0,
  "metadata": {
    "colab": {
      "name": "exp-7_J006",
      "provenance": [],
      "authorship_tag": "ABX9TyOINtQrdF+g34MDUiSZhJxe",
      "include_colab_link": true
    },
    "kernelspec": {
      "name": "python3",
      "display_name": "Python 3"
    }
  },
  "cells": [
    {
      "cell_type": "markdown",
      "metadata": {
        "id": "view-in-github",
        "colab_type": "text"
      },
      "source": [
        "<a href=\"https://colab.research.google.com/github/rajbhadalia/ML.01/blob/master/exp_7_J006.ipynb\" target=\"_parent\"><img src=\"https://colab.research.google.com/assets/colab-badge.svg\" alt=\"Open In Colab\"/></a>"
      ]
    },
    {
      "cell_type": "code",
      "metadata": {
        "id": "-aB188UyJJYE",
        "colab_type": "code",
        "colab": {}
      },
      "source": [
        "import pandas as pd\n",
        "import numpy as np\n",
        "from sklearn.datasets import fetch_covtype, fetch_kddcup99, fetch_lfw_pairs, fetch_lfw_people, fetch_olivetti_faces\n",
        "from sklearn.datasets import fetch_rcv1, load_breast_cancer, load_digits, load_wine"
      ],
      "execution_count": 48,
      "outputs": []
    },
    {
      "cell_type": "code",
      "metadata": {
        "id": "3agGYlo4JpNk",
        "colab_type": "code",
        "colab": {}
      },
      "source": [
        "from sklearn.model_selection import train_test_split\n",
        "from sklearn.preprocessing import LabelEncoder, StandardScaler\n",
        "from scipy.sparse import csr_matrix\n",
        "import matplotlib.pyplot as plt"
      ],
      "execution_count": 49,
      "outputs": []
    },
    {
      "cell_type": "code",
      "metadata": {
        "id": "pByzQWFWJpPB",
        "colab_type": "code",
        "colab": {}
      },
      "source": [
        "from keras import models\n",
        "from keras import layers\n",
        "from keras.utils import to_categorical"
      ],
      "execution_count": 50,
      "outputs": []
    },
    {
      "cell_type": "code",
      "metadata": {
        "id": "XEIGEVaIJpSW",
        "colab_type": "code",
        "colab": {}
      },
      "source": [
        "forest = fetch_covtype()\n",
        "x_fetch_covtype = forest.data\n",
        "y_fetch_covtype = forest.target"
      ],
      "execution_count": 51,
      "outputs": []
    },
    {
      "cell_type": "code",
      "metadata": {
        "id": "f-4_GTAuJpT0",
        "colab_type": "code",
        "colab": {
          "base_uri": "https://localhost:8080/",
          "height": 50
        },
        "outputId": "d9676ff9-495d-4d66-d690-414872352f9a"
      },
      "source": [
        "x_forest = pd.DataFrame(x_fetch_covtype)\n",
        "y_forest = pd.DataFrame(y_fetch_covtype)\n",
        "print(x_forest.shape)\n",
        "print(y_forest.shape)"
      ],
      "execution_count": 52,
      "outputs": [
        {
          "output_type": "stream",
          "text": [
            "(581012, 54)\n",
            "(581012, 1)\n"
          ],
          "name": "stdout"
        }
      ]
    },
    {
      "cell_type": "code",
      "metadata": {
        "id": "em17i4wPJpW9",
        "colab_type": "code",
        "colab": {
          "base_uri": "https://localhost:8080/",
          "height": 117
        },
        "outputId": "0b2ba882-999d-4a91-c40c-5a9132432860"
      },
      "source": [
        "y_fore = y_forest.replace([1,2,3,4,5,6,7], [0,1,2,3,4,5,6])\n",
        "y_fore = to_categorical(y_fore)\n",
        "x_train, x_test, y_train, y_test = train_test_split(x_forest, y_fore, test_size = 0.2)\n",
        "x_dev, x_test, y_dev, y_test = train_test_split(x_test, y_test, test_size = 0.5)\n",
        "print(x_train.shape)\n",
        "print(x_dev.shape)\n",
        "print(x_test.shape)\n",
        "print(y_train.shape)\n",
        "print(y_dev.shape)\n",
        "print(y_test.shape)"
      ],
      "execution_count": 53,
      "outputs": [
        {
          "output_type": "stream",
          "text": [
            "(464809, 54)\n",
            "(58101, 54)\n",
            "(58102, 54)\n",
            "(464809, 7)\n",
            "(58101, 7)\n",
            "(58102, 7)\n"
          ],
          "name": "stdout"
        }
      ]
    },
    {
      "cell_type": "code",
      "metadata": {
        "id": "xAbLseM0JpYX",
        "colab_type": "code",
        "colab": {}
      },
      "source": [
        "nn_forest = models.Sequential()\n",
        "nn_forest.add(layers.Dense(512, activation = 'relu', input_shape = (54, )))\n",
        "nn_forest.add(layers.Dense(256, activation = 'relu'))\n",
        "nn_forest.add(layers.Dense(128, activation = 'relu'))\n",
        "nn_forest.add(layers.Dense(54, activation = 'relu'))\n",
        "nn_forest.add(layers.Dense(7, activation = 'softmax'))\n",
        "nn_forest.compile(optimizer = 'rmsprop', loss = 'categorical_crossentropy', metrics = ['accuracy'])"
      ],
      "execution_count": 54,
      "outputs": []
    },
    {
      "cell_type": "code",
      "metadata": {
        "id": "ap8I87OQJpb8",
        "colab_type": "code",
        "colab": {
          "base_uri": "https://localhost:8080/",
          "height": 452
        },
        "outputId": "257faa47-a58f-45e5-f77a-8e037ff9371a"
      },
      "source": [
        "forest_history = nn_forest.fit(x_train, y_train, epochs = 100, batch_size = 1000, validation_data = (x_dev, y_dev))\n",
        "for_dev_acc = nn_forest.evaluate(x_dev, y_dev)[1]\n",
        "print('The dev accuracy is',for_dev_acc)"
      ],
      "execution_count": null,
      "outputs": [
        {
          "output_type": "stream",
          "text": [
            "Epoch 1/100\n",
            "465/465 [==============================] - 14s 30ms/step - loss: 7.6528 - accuracy: 0.4303 - val_loss: 1.1205 - val_accuracy: 0.4774\n",
            "Epoch 2/100\n",
            "465/465 [==============================] - 14s 30ms/step - loss: 1.1070 - accuracy: 0.5115 - val_loss: 0.9069 - val_accuracy: 0.5740\n",
            "Epoch 3/100\n",
            "465/465 [==============================] - 14s 29ms/step - loss: 0.9168 - accuracy: 0.5843 - val_loss: 1.1124 - val_accuracy: 0.4789\n",
            "Epoch 4/100\n",
            "465/465 [==============================] - 14s 29ms/step - loss: 0.8061 - accuracy: 0.6349 - val_loss: 0.6830 - val_accuracy: 0.7035\n",
            "Epoch 5/100\n",
            "465/465 [==============================] - 14s 29ms/step - loss: 0.7246 - accuracy: 0.6721 - val_loss: 0.5934 - val_accuracy: 0.7437\n",
            "Epoch 6/100\n",
            "465/465 [==============================] - 14s 29ms/step - loss: 0.6577 - accuracy: 0.7055 - val_loss: 0.7519 - val_accuracy: 0.6728\n",
            "Epoch 7/100\n",
            "465/465 [==============================] - 14s 29ms/step - loss: 0.6137 - accuracy: 0.7271 - val_loss: 0.6714 - val_accuracy: 0.6837\n",
            "Epoch 8/100\n",
            "465/465 [==============================] - 13s 29ms/step - loss: 0.5762 - accuracy: 0.7458 - val_loss: 0.6247 - val_accuracy: 0.7367\n",
            "Epoch 9/100\n",
            "465/465 [==============================] - 14s 29ms/step - loss: 0.5478 - accuracy: 0.7610 - val_loss: 0.4630 - val_accuracy: 0.8038\n",
            "Epoch 10/100\n",
            "465/465 [==============================] - 14s 29ms/step - loss: 0.5231 - accuracy: 0.7725 - val_loss: 0.4769 - val_accuracy: 0.7959\n",
            "Epoch 11/100\n",
            "465/465 [==============================] - 14s 29ms/step - loss: 0.5029 - accuracy: 0.7823 - val_loss: 0.6281 - val_accuracy: 0.7107\n",
            "Epoch 12/100\n",
            "465/465 [==============================] - 13s 29ms/step - loss: 0.4854 - accuracy: 0.7895 - val_loss: 0.4362 - val_accuracy: 0.8124\n",
            "Epoch 13/100\n",
            "339/465 [====================>.........] - ETA: 3s - loss: 0.4712 - accuracy: 0.7969"
          ],
          "name": "stdout"
        }
      ]
    },
    {
      "cell_type": "code",
      "metadata": {
        "id": "OgmIyXpuJpdY",
        "colab_type": "code",
        "colab": {}
      },
      "source": [
        "plt.figure(figsize = (10,7))\n",
        "plt.plot(forest_history.history['accuracy'], color = 'blue')\n",
        "plt.plot(forest_history.history['val_accuracy'], color = 'red')\n",
        "plt.title('Model accuracy')\n",
        "plt.ylabel('Accuracy')\n",
        "plt.xlabel('Epoch')\n",
        "plt.legend(['Train', 'Validation'], loc='upper left')\n",
        "plt.show()\n",
        "\n",
        "plt.figure(figsize = (10,7))\n",
        "plt.plot(forest_history.history['loss'], color = 'blue')\n",
        "plt.plot(forest_history.history['val_loss'], color = 'red')\n",
        "plt.ylim((0,1))\n",
        "plt.title('Model loss')\n",
        "plt.ylabel('Loss')\n",
        "plt.xlabel('Epoch')\n",
        "plt.legend(['Train', 'Validation'], loc='upper left')\n",
        "plt.show()"
      ],
      "execution_count": null,
      "outputs": []
    },
    {
      "cell_type": "code",
      "metadata": {
        "id": "9OnqPu_yJpg_",
        "colab_type": "code",
        "colab": {}
      },
      "source": [
        "for_test_acc = nn_forest.evaluate(x_test, y_test)[1]\n",
        "print('The test accuracy is',for_test_acc)"
      ],
      "execution_count": null,
      "outputs": []
    },
    {
      "cell_type": "code",
      "metadata": {
        "id": "VmfuVTMiJpie",
        "colab_type": "code",
        "colab": {}
      },
      "source": [
        "kddcup99 = fetch_kddcup99()\n",
        "x_fetch_kddcup99 = kddcup99.data\n",
        "y_fetch_kddcup99 = kddcup99.target"
      ],
      "execution_count": null,
      "outputs": []
    },
    {
      "cell_type": "code",
      "metadata": {
        "id": "DkBWgY_4JpmH",
        "colab_type": "code",
        "colab": {}
      },
      "source": [
        "x_kdd = pd.DataFrame(x_fetch_kddcup99)\n",
        "y_kdd = pd.DataFrame(y_fetch_kddcup99)\n",
        "print(x_kdd.shape)\n",
        "print(y_kdd.shape)"
      ],
      "execution_count": null,
      "outputs": []
    },
    {
      "cell_type": "code",
      "metadata": {
        "id": "X_64hV8HJpnm",
        "colab_type": "code",
        "colab": {}
      },
      "source": [
        "le = LabelEncoder()\n",
        "for i in [1,2,3]:\n",
        "  x_kdd[i] = [j.decode('utf-8') for j in x_kdd[i]]\n",
        "  x_kdd[i] = le.fit_transform(x_kdd[i])\n",
        "\n",
        "for i in range(x_kdd.shape[1]):\n",
        "  x_kdd[i] = x_kdd[i].astype('float')"
      ],
      "execution_count": null,
      "outputs": []
    },
    {
      "cell_type": "code",
      "metadata": {
        "id": "0SyYP6lVJprl",
        "colab_type": "code",
        "colab": {}
      },
      "source": [
        "y_kdd99 = [i.decode('utf-8') for i in y_fetch_kddcup99]\n",
        "y_kdd99 = pd.DataFrame(le.fit_transform(y_kdd99))"
      ],
      "execution_count": null,
      "outputs": []
    },
    {
      "cell_type": "code",
      "metadata": {
        "id": "HIxWeNmuJptN",
        "colab_type": "code",
        "colab": {}
      },
      "source": [
        "y_kdd99 = to_categorical(y_kdd99)\n",
        "x_train, x_test, y_train, y_test = train_test_split(x_kdd, y_kdd99, test_size = 0.2)\n",
        "x_dev, x_test, y_dev, y_test = train_test_split(x_test, y_test, test_size = 0.5)\n",
        "print(x_train.shape)\n",
        "print(x_dev.shape)\n",
        "print(x_test.shape)\n",
        "print(y_train.shape)\n",
        "print(y_dev.shape)\n",
        "print(y_test.shape)"
      ],
      "execution_count": null,
      "outputs": []
    },
    {
      "cell_type": "code",
      "metadata": {
        "id": "ra3unNC7Jpwy",
        "colab_type": "code",
        "colab": {}
      },
      "source": [
        "nn_kdd99 = models.Sequential()\n",
        "nn_kdd99.add(layers.Dense(256, activation = 'relu', input_shape = (41, )))\n",
        "nn_kdd99.add(layers.Dense(128, activation = 'relu'))\n",
        "nn_kdd99.add(layers.Dense(64, activation = 'relu'))\n",
        "nn_kdd99.add(layers.Dense(32, activation = 'relu'))\n",
        "nn_kdd99.add(layers.Dense(23, activation = 'softmax'))\n",
        "nn_kdd99.compile(optimizer = 'rmsprop', loss = 'categorical_crossentropy', metrics = ['accuracy'])"
      ],
      "execution_count": null,
      "outputs": []
    },
    {
      "cell_type": "code",
      "metadata": {
        "id": "crLRPrnlJpyW",
        "colab_type": "code",
        "colab": {}
      },
      "source": [
        "kdd99_history = nn_kdd99.fit(x_train, y_train, epochs = 100, batch_size = 1000, validation_data = (x_dev, y_dev))\n",
        "kdd99_dev_acc = nn_kdd99.evaluate(x_dev, y_dev)[1]\n",
        "print('The dev accuracy is', kdd99_dev_acc)"
      ],
      "execution_count": null,
      "outputs": []
    },
    {
      "cell_type": "code",
      "metadata": {
        "id": "jAjODIzzJp1j",
        "colab_type": "code",
        "colab": {}
      },
      "source": [
        "plt.figure(figsize = (10,7))\n",
        "plt.plot(kdd99_history.history['accuracy'], color = 'blue')\n",
        "plt.plot(kdd99_history.history['val_accuracy'], color = 'red')\n",
        "plt.title('Model accuracy')\n",
        "plt.ylabel('Accuracy')\n",
        "plt.xlabel('Epoch')\n",
        "plt.legend(['Train', 'Validation'], loc='upper left')\n",
        "plt.show()\n",
        "\n",
        "plt.figure(figsize = (10,7))\n",
        "plt.plot(kdd99_history.history['loss'], color = 'blue')\n",
        "plt.plot(kdd99_history.history['val_loss'], color = 'red')\n",
        "plt.ylim((0,3))\n",
        "plt.title('Model loss')\n",
        "plt.ylabel('Loss')\n",
        "plt.xlabel('Epoch')\n",
        "plt.legend(['Train', 'Validation'], loc='upper left')\n",
        "plt.show()"
      ],
      "execution_count": null,
      "outputs": []
    },
    {
      "cell_type": "code",
      "metadata": {
        "id": "PqtIX4O2Jp3N",
        "colab_type": "code",
        "colab": {}
      },
      "source": [
        "kdd99_test_acc = nn_kdd99.evaluate(x_test, y_test)[1]\n",
        "print('The test accuracy is', kdd99_test_acc)"
      ],
      "execution_count": null,
      "outputs": []
    },
    {
      "cell_type": "code",
      "metadata": {
        "id": "PURP8d0AJp63",
        "colab_type": "code",
        "colab": {}
      },
      "source": [
        "lfw = fetch_lfw_pairs()\n",
        "x_fetch_lfw_pairs = lfw.data\n",
        "y_fetch_lfw_pairs = lfw.target"
      ],
      "execution_count": null,
      "outputs": []
    },
    {
      "cell_type": "code",
      "metadata": {
        "id": "-ReAh_B1Jp8a",
        "colab_type": "code",
        "colab": {}
      },
      "source": [
        "x_lfw_pairs = pd.DataFrame(x_fetch_lfw_pairs)\n",
        "y_lfw_pairs = pd.DataFrame(y_fetch_lfw_pairs)\n",
        "print(x_lfw_pairs.shape)\n",
        "print(y_lfw_pairs.shape)"
      ],
      "execution_count": null,
      "outputs": []
    },
    {
      "cell_type": "code",
      "metadata": {
        "id": "-JbV8v9EJp_q",
        "colab_type": "code",
        "colab": {}
      },
      "source": [
        "x_train, x_test, y_train, y_test = train_test_split(x_lfw_pairs, y_lfw_pairs, test_size = 0.2)\n",
        "x_dev, x_test, y_dev, y_test = train_test_split(x_test, y_test, test_size = 0.5)\n",
        "print(x_train.shape)\n",
        "print(x_dev.shape)\n",
        "print(x_test.shape)\n",
        "print(y_train.shape)\n",
        "print(y_dev.shape)\n",
        "print(y_test.shape)"
      ],
      "execution_count": null,
      "outputs": []
    },
    {
      "cell_type": "code",
      "metadata": {
        "id": "e4AVTxQPJqBQ",
        "colab_type": "code",
        "colab": {}
      },
      "source": [
        "nn_lfw_pairs = models.Sequential()\n",
        "\n",
        "nn_lfw_pairs.add(layers.Dense(11652, activation = 'relu', input_shape = (5828, )))\n",
        "nn_lfw_pairs.add(layers.Dense(5828, activation = 'relu'))\n",
        "nn_lfw_pairs.add(layers.Dense(2914, activation = 'relu'))\n",
        "nn_lfw_pairs.add(layers.Dense(1457, activation = 'relu'))\n",
        "nn_lfw_pairs.add(layers.Dense(128))\n",
        "nn_lfw_pairs.add(layers.LeakyReLU(alpha = 0.01))\n",
        "nn_lfw_pairs.add(layers.Dense(64, activation = 'relu'))\n",
        "nn_lfw_pairs.add(layers.Dense(1, activation = 'sigmoid'))\n",
        "\n",
        "nn_lfw_pairs.compile(optimizer = 'rmsprop', loss = 'binary_crossentropy', metrics = ['accuracy'])"
      ],
      "execution_count": null,
      "outputs": []
    },
    {
      "cell_type": "code",
      "metadata": {
        "id": "AK4pLtL0K4MN",
        "colab_type": "code",
        "colab": {}
      },
      "source": [
        "lfw_pairs_history = nn_lfw_pairs.fit(x_train, y_train, epochs = 50, batch_size = 100,\n",
        "                                     validation_data = (x_dev, y_dev))\n",
        "lfw_pairs_dev_acc = nn_lfw_pairs.evaluate(x_dev, y_dev)[1]\n",
        "print('The dev accuracy is', lfw_pairs_dev_acc)"
      ],
      "execution_count": null,
      "outputs": []
    },
    {
      "cell_type": "code",
      "metadata": {
        "id": "cUpCIXe0K4Ny",
        "colab_type": "code",
        "colab": {}
      },
      "source": [
        "plt.figure(figsize = (10,7))\n",
        "plt.plot(lfw_pairs_history.history['accuracy'], color = 'blue')\n",
        "plt.plot(lfw_pairs_history.history['val_accuracy'], color = 'red')\n",
        "plt.title('Model accuracy')\n",
        "plt.ylabel('Accuracy')\n",
        "plt.xlabel('Epoch')\n",
        "plt.legend(['Train', 'Validation'], loc='upper left')\n",
        "plt.show()\n",
        "\n",
        "plt.figure(figsize = (10,7))\n",
        "plt.plot(lfw_pairs_history.history['loss'], color = 'blue')\n",
        "plt.plot(lfw_pairs_history.history['val_loss'], color = 'red')\n",
        "# plt.ylim((0,3))\n",
        "plt.title('Model loss')\n",
        "plt.ylabel('Loss')\n",
        "plt.xlabel('Epoch')\n",
        "plt.legend(['Train', 'Validation'], loc='upper left')\n",
        "plt.show()"
      ],
      "execution_count": null,
      "outputs": []
    },
    {
      "cell_type": "code",
      "metadata": {
        "id": "b5kjWOztK4Q9",
        "colab_type": "code",
        "colab": {}
      },
      "source": [
        "lfw_pairs_test_acc = nn_lfw_pairs.evaluate(x_test, y_test)[1]\n",
        "print('The test accuracy is', lfw_pairs_test_acc)"
      ],
      "execution_count": null,
      "outputs": []
    },
    {
      "cell_type": "code",
      "metadata": {
        "id": "pjM6_V-xK4Sg",
        "colab_type": "code",
        "colab": {}
      },
      "source": [
        "lfw = fetch_lfw_pairs()\n",
        "x_fetch_lfw = fetch_lfw_people().data\n",
        "y_fetch_lfw = fetch_lfw_people().target"
      ],
      "execution_count": null,
      "outputs": []
    },
    {
      "cell_type": "code",
      "metadata": {
        "id": "Yd8coA0cK4Wi",
        "colab_type": "code",
        "colab": {}
      },
      "source": [
        "x_lfw = pd.DataFrame(x_fetch_lfw)\n",
        "y_lfw = pd.DataFrame(y_fetch_lfw)\n",
        "print(x_lfw.shape)\n",
        "print(y_lfw.shape)"
      ],
      "execution_count": null,
      "outputs": []
    },
    {
      "cell_type": "code",
      "metadata": {
        "id": "oCeqyX92LS9J",
        "colab_type": "code",
        "colab": {}
      },
      "source": [
        "for i in range(x_lfw.shape[1]):\n",
        "  x_lfw[i] = x_lfw[i] / 255\n"
      ],
      "execution_count": null,
      "outputs": []
    },
    {
      "cell_type": "code",
      "metadata": {
        "id": "xEisJiAJLS-o",
        "colab_type": "code",
        "colab": {}
      },
      "source": [
        "y_lfw = to_categorical(y_lfw)\n",
        "x_train, x_test, y_train, y_test = train_test_split(x_lfw, y_lfw, test_size = 0.2)\n",
        "x_dev, x_test, y_dev, y_test = train_test_split(x_test, y_test, test_size = 0.5)\n",
        "print(x_train.shape)\n",
        "print(x_dev.shape)\n",
        "print(x_test.shape)\n",
        "print(y_train.shape)\n",
        "print(y_dev.shape)\n",
        "print(y_test.shape)\n"
      ],
      "execution_count": null,
      "outputs": []
    },
    {
      "cell_type": "code",
      "metadata": {
        "id": "iJUpm2igLTCz",
        "colab_type": "code",
        "colab": {}
      },
      "source": [
        "nn_lfw = models.Sequential()\n",
        "\n",
        "nn_lfw.add(layers.Dense(2048, activation = 'relu', input_shape = (2914, )))\n",
        "nn_lfw.add(layers.Dense(8192, activation = 'relu'))\n",
        "nn_lfw.add(layers.Dense(4096, activation = 'relu'))\n",
        "nn_lfw.add(layers.Dense(2048, activation = 'relu'))\n",
        "nn_lfw.add(layers.Dense(4096, activation = 'relu'))\n",
        "nn_lfw.add(layers.Dense(5120, activation = 'relu'))\n",
        "nn_lfw.add(layers.Dense(5749, activation = 'softmax'))\n",
        "\n",
        "nn_lfw.compile(optimizer = 'sgd', loss = 'categorical_crossentropy', metrics = ['accuracy'])"
      ],
      "execution_count": null,
      "outputs": []
    },
    {
      "cell_type": "code",
      "metadata": {
        "id": "PZr8cKNXLTEU",
        "colab_type": "code",
        "colab": {}
      },
      "source": [
        "lfw_history = nn_lfw.fit(x_train, y_train, epochs = 20, batch_size = 1000, validation_data = (x_dev, y_dev))\n",
        "\n",
        "lfw_dev_acc = nn_lfw.evaluate(x_dev, y_dev)[1]\n",
        "print('The dev accuracy is', lfw_dev_acc)"
      ],
      "execution_count": null,
      "outputs": []
    },
    {
      "cell_type": "code",
      "metadata": {
        "id": "kqSpB4jMLTHj",
        "colab_type": "code",
        "colab": {}
      },
      "source": [
        "plt.figure(figsize = (10,7))\n",
        "plt.plot(lfw_history.history['accuracy'], color = 'blue')\n",
        "plt.plot(lfw_history.history['val_accuracy'], color = 'red')\n",
        "plt.title('Model accuracy')\n",
        "plt.ylabel('Accuracy')\n",
        "plt.xlabel('Epoch')\n",
        "plt.legend(['Train', 'Validation'], loc='upper left')\n",
        "plt.show()\n",
        "\n",
        "plt.figure(figsize = (10,7))\n",
        "plt.plot(lfw_history.history['loss'], color = 'blue')\n",
        "plt.plot(lfw_history.history['val_loss'], color = 'red')\n",
        "plt.ylim((0,3))\n",
        "plt.title('Model loss')\n",
        "plt.ylabel('Loss')\n",
        "plt.xlabel('Epoch')\n",
        "plt.legend(['Train', 'Validation'], loc='upper left')\n",
        "plt.show()"
      ],
      "execution_count": null,
      "outputs": []
    },
    {
      "cell_type": "code",
      "metadata": {
        "id": "Phj5CgUnLTJQ",
        "colab_type": "code",
        "colab": {}
      },
      "source": [
        "lfw_test_acc = nn_lfw.evaluate(x_test, y_test)[1]\n",
        "print('The test accuracy is', lfw_test_acc)"
      ],
      "execution_count": null,
      "outputs": []
    },
    {
      "cell_type": "code",
      "metadata": {
        "id": "g4G3Lh25LTMo",
        "colab_type": "code",
        "colab": {}
      },
      "source": [
        "oli = fetch_olivetti_faces(shuffle = True)\n",
        "x_fetch_olivetti_faces = oli.data\n",
        "y_fetch_olivetti_faces = oli.target"
      ],
      "execution_count": null,
      "outputs": []
    },
    {
      "cell_type": "code",
      "metadata": {
        "id": "efW1HSNcLTOY",
        "colab_type": "code",
        "colab": {}
      },
      "source": [
        "x_oli = pd.DataFrame(x_fetch_olivetti_faces)\n",
        "y_oli = pd.DataFrame(y_fetch_olivetti_faces)\n",
        "print(x_fetch_olivetti_faces.shape)\n",
        "print(y_oli.shape)\n"
      ],
      "execution_count": null,
      "outputs": []
    },
    {
      "cell_type": "code",
      "metadata": {
        "id": "nH08-fq3LTSp",
        "colab_type": "code",
        "colab": {}
      },
      "source": [
        "y_oli = to_categorical(y_oli)\n",
        "x_train, x_test, y_train, y_test = train_test_split(x_oli, y_oli, test_size = 0.2)\n",
        "x_dev, x_test, y_dev, y_test = train_test_split(x_test, y_test, test_size = 0.5)\n",
        "print(x_train.shape)\n",
        "print(x_dev.shape)\n",
        "print(x_test.shape)\n",
        "print(y_train.shape)\n",
        "print(y_dev.shape)\n",
        "print(y_test.shape)"
      ],
      "execution_count": null,
      "outputs": []
    },
    {
      "cell_type": "code",
      "metadata": {
        "id": "rECqySOoLTWs",
        "colab_type": "code",
        "colab": {}
      },
      "source": [
        "nn_oli = models.Sequential()\n",
        "\n",
        "nn_oli.add(layers.Dense(2048, activation = 'relu', input_shape = (4096, )))\n",
        "nn_oli.add(layers.Dense(1024, activation = 'relu'))\n",
        "nn_oli.add(layers.Dense(512, activation = 'relu'))\n",
        "nn_oli.add(layers.Dense(256, activation = 'relu'))\n",
        "nn_oli.add(layers.Dense(40, activation = 'softmax'))\n",
        "\n",
        "nn_oli.compile(optimizer = 'sgd', loss = 'categorical_crossentropy', metrics = ['accuracy'])"
      ],
      "execution_count": null,
      "outputs": []
    },
    {
      "cell_type": "code",
      "metadata": {
        "id": "192Hx_aELTRc",
        "colab_type": "code",
        "colab": {}
      },
      "source": [
        "oli_history = nn_oli.fit(x_train, y_train, epochs = 50, validation_data = (x_dev, y_dev))\n",
        "\n",
        "oli_dev_acc = nn_oli.evaluate(x_dev, y_dev)[1]\n",
        "print('The dev accuracy is', oli_dev_acc)"
      ],
      "execution_count": null,
      "outputs": []
    },
    {
      "cell_type": "code",
      "metadata": {
        "id": "SZLcb2eqK4eV",
        "colab_type": "code",
        "colab": {}
      },
      "source": [
        "plt.figure(figsize = (10,7))\n",
        "plt.plot(oli_history.history['accuracy'], color = 'blue')\n",
        "plt.plot(oli_history.history['val_accuracy'], color = 'red')\n",
        "plt.title('Model accuracy')\n",
        "plt.ylabel('Accuracy')\n",
        "plt.xlabel('Epoch')\n",
        "plt.legend(['Train', 'Validation'], loc='upper left')\n",
        "plt.show()\n",
        "\n",
        "plt.figure(figsize = (10,7))\n",
        "plt.plot(oli_history.history['loss'], color = 'blue')\n",
        "plt.plot(oli_history.history['val_loss'], color = 'red')\n",
        "plt.ylim((0,3))\n",
        "plt.title('Model loss')\n",
        "plt.ylabel('Loss')\n",
        "plt.xlabel('Epoch')\n",
        "plt.legend(['Train', 'Validation'], loc='upper left')\n",
        "plt.show()"
      ],
      "execution_count": null,
      "outputs": []
    },
    {
      "cell_type": "code",
      "metadata": {
        "id": "ivPgMSoGL66P",
        "colab_type": "code",
        "colab": {}
      },
      "source": [
        "oli_test_acc = nn_oli.evaluate(x_test, y_test)[1]\n",
        "print('The test accuracy is', oli_test_acc)"
      ],
      "execution_count": null,
      "outputs": []
    },
    {
      "cell_type": "code",
      "metadata": {
        "id": "GCRfB8KRL677",
        "colab_type": "code",
        "colab": {}
      },
      "source": [
        "rcv1 = fetch_rcv1()\n",
        "x_fetch_rcv1 = rcv1.data\n",
        "y_fetch_rcv1 = rcv1.target"
      ],
      "execution_count": null,
      "outputs": []
    },
    {
      "cell_type": "code",
      "metadata": {
        "id": "-pAQM8MXL6_4",
        "colab_type": "code",
        "colab": {}
      },
      "source": [
        "x_rcv1 = x_fetch_rcv1\n",
        "y_rcv1 = y_fetch_rcv1\n",
        "print(x_rcv1.shape)\n",
        "print(y_rcv1.shape)"
      ],
      "execution_count": null,
      "outputs": []
    },
    {
      "cell_type": "code",
      "metadata": {
        "id": "2s3HRfj-L7Bl",
        "colab_type": "code",
        "colab": {}
      },
      "source": [
        "x_train, x_test, y_train, y_test = train_test_split(x_rcv1, y_rcv1, test_size = 0.2)\n",
        "x_dev, x_test, y_dev, y_test = train_test_split(x_test, y_test, test_size = 0.5)\n",
        "print(x_train.shape)\n",
        "print(x_dev.shape)\n",
        "print(x_test.shape)\n",
        "print(y_train.shape)\n",
        "print(y_dev.shape)\n",
        "print(y_test.shape)"
      ],
      "execution_count": null,
      "outputs": []
    },
    {
      "cell_type": "code",
      "metadata": {
        "id": "WiP63q_AL7GZ",
        "colab_type": "code",
        "colab": {}
      },
      "source": [
        "nn_rcv1 = models.Sequential()\n",
        "\n",
        "nn_rcv1.add(layers.Dense(100, activation = 'relu', input_shape = (47236, )))\n",
        "nn_rcv1.add(layers.Dense(2500, activation = 'relu'))\n",
        "nn_rcv1.add(layers.Dense(1024, activation = 'relu'))\n",
        "nn_rcv1.add(layers.Dense(512, activation = 'relu'))\n",
        "nn_rcv1.add(layers.Dense(256, activation = 'relu'))\n",
        "nn_rcv1.add(layers.Dense(103, activation = 'softmax'))\n",
        "\n",
        "nn_rcv1.compile(optimizer = 'sgd', loss = 'categorical_crossentropy', metrics = ['accuracy'])"
      ],
      "execution_count": null,
      "outputs": []
    },
    {
      "cell_type": "code",
      "metadata": {
        "id": "6klWp1D4L7KX",
        "colab_type": "code",
        "colab": {}
      },
      "source": [
        "rcv1_history = nn_rcv1.fit(x_train, y_train, epochs = 100, validation_data = (x_dev, y_dev))\n",
        "\n",
        "rcv1_dev_acc = nn_rcv1.evaluate(x_dev, y_dev)[1]\n",
        "print('The dev accuracy is', rcv1_dev_acc)"
      ],
      "execution_count": null,
      "outputs": []
    },
    {
      "cell_type": "code",
      "metadata": {
        "id": "WmKuehyAL7MG",
        "colab_type": "code",
        "colab": {}
      },
      "source": [
        "plt.figure(figsize = (10,7))\n",
        "plt.plot(rcv1_history.history['accuracy'], color = 'blue')\n",
        "plt.plot(rcv1_history.history['val_accuracy'], color = 'red')\n",
        "plt.title('Model accuracy')\n",
        "plt.ylabel('Accuracy')\n",
        "plt.xlabel('Epoch')\n",
        "plt.legend(['Train', 'Validation'], loc='upper left')\n",
        "plt.show()\n",
        "\n",
        "plt.figure(figsize = (10,7))\n",
        "plt.plot(rcv1_history.history['loss'], color = 'blue')\n",
        "plt.plot(rcv1_history.history['val_loss'], color = 'red')\n",
        "plt.ylim((0,3))\n",
        "plt.title('Model loss')\n",
        "plt.ylabel('Loss')\n",
        "plt.xlabel('Epoch')\n",
        "plt.legend(['Train', 'Validation'], loc='upper left')\n",
        "plt.show()"
      ],
      "execution_count": null,
      "outputs": []
    },
    {
      "cell_type": "code",
      "metadata": {
        "id": "o-lVhJDxL7RG",
        "colab_type": "code",
        "colab": {}
      },
      "source": [
        "rcv1_test_acc = nn_rcv1.evaluate(x_test, y_test)[1]\n",
        "print('The test accuracy is', rcv1_test_acc)"
      ],
      "execution_count": null,
      "outputs": []
    },
    {
      "cell_type": "code",
      "metadata": {
        "id": "MCJifiycL7Ul",
        "colab_type": "code",
        "colab": {}
      },
      "source": [
        "cancer = load_breast_cancer()\n",
        "x_load_breast_cancer = cancer.data\n",
        "y_load_breast_cancer = cancer.target"
      ],
      "execution_count": null,
      "outputs": []
    },
    {
      "cell_type": "code",
      "metadata": {
        "id": "eajgLDboL7We",
        "colab_type": "code",
        "colab": {}
      },
      "source": [
        "x_cancer = pd.DataFrame(x_load_breast_cancer)\n",
        "y_cancer = pd.DataFrame(y_load_breast_cancer)\n",
        "print(x_cancer.shape)\n",
        "print(y_cancer.shape)"
      ],
      "execution_count": null,
      "outputs": []
    },
    {
      "cell_type": "code",
      "metadata": {
        "id": "gI6p5qVSL7ak",
        "colab_type": "code",
        "colab": {}
      },
      "source": [
        "sc = StandardScaler()\n",
        "x_cancer = pd.DataFrame(sc.fit_transform(x_cancer))"
      ],
      "execution_count": null,
      "outputs": []
    },
    {
      "cell_type": "code",
      "metadata": {
        "id": "Vu0PWUlvL7cs",
        "colab_type": "code",
        "colab": {}
      },
      "source": [
        "x_train, x_test, y_train, y_test = train_test_split(x_cancer, y_cancer, test_size = 0.2, shuffle = True)\n",
        "x_dev, x_test, y_dev, y_test = train_test_split(x_test, y_test, test_size = 0.5, shuffle = True)\n",
        "print(x_train.shape)\n",
        "print(x_dev.shape)\n",
        "print(x_test.shape)\n",
        "print(y_train.shape)\n",
        "print(y_dev.shape)\n",
        "print(y_test.shape)"
      ],
      "execution_count": null,
      "outputs": []
    },
    {
      "cell_type": "code",
      "metadata": {
        "id": "Ez7Gch1eL7QO",
        "colab_type": "code",
        "colab": {}
      },
      "source": [
        "nn_cancer = models.Sequential()\n",
        "\n",
        "nn_cancer.add(layers.Dense(128, activation = 'relu', input_shape = (30, )))\n",
        "nn_cancer.add(layers.Dense(64, activation = 'relu'))\n",
        "nn_cancer.add(layers.Dense(1, activation = 'sigmoid'))\n",
        "\n",
        "nn_cancer.compile(optimizer = 'sgd', loss = 'binary_crossentropy', metrics = ['accuracy'])\n"
      ],
      "execution_count": null,
      "outputs": []
    },
    {
      "cell_type": "code",
      "metadata": {
        "id": "0_KDB8p7L7E_",
        "colab_type": "code",
        "colab": {}
      },
      "source": [
        "cancer_history = nn_cancer.fit(x_train, y_train, epochs = 50, validation_data = (x_dev, y_dev))\n",
        "\n",
        "cancer_dev_acc = nn_cancer.evaluate(x_dev, y_dev)[1]\n",
        "print('The dev accuracy is', cancer_dev_acc)"
      ],
      "execution_count": null,
      "outputs": []
    },
    {
      "cell_type": "code",
      "metadata": {
        "id": "8HdAdDKAMhlQ",
        "colab_type": "code",
        "colab": {}
      },
      "source": [
        "plt.figure(figsize = (10,7))\n",
        "plt.plot(cancer_history.history['accuracy'], color = 'blue')\n",
        "plt.plot(cancer_history.history['val_accuracy'], color = 'red')\n",
        "plt.title('Model accuracy')\n",
        "plt.ylabel('Accuracy')\n",
        "plt.xlabel('Epoch')\n",
        "plt.legend(['Train', 'Validation'], loc='upper left')\n",
        "plt.show()\n",
        "\n",
        "plt.figure(figsize = (10,7))\n",
        "plt.plot(cancer_history.history['loss'], color = 'blue')\n",
        "plt.plot(cancer_history.history['val_loss'], color = 'red')\n",
        "# plt.ylim((0,3))\n",
        "plt.title('Model loss')\n",
        "plt.ylabel('Loss')\n",
        "plt.xlabel('Epoch')\n",
        "plt.legend(['Train', 'Validation'], loc='upper left')\n",
        "plt.show()"
      ],
      "execution_count": null,
      "outputs": []
    },
    {
      "cell_type": "code",
      "metadata": {
        "id": "e1rtpW-6MhnI",
        "colab_type": "code",
        "colab": {}
      },
      "source": [
        "cancer_test_acc = nn_cancer.evaluate(x_test, y_test)[1]\n",
        "print('The test accuracy is', cancer_test_acc)"
      ],
      "execution_count": null,
      "outputs": []
    },
    {
      "cell_type": "code",
      "metadata": {
        "id": "dV7bUV4jMhr7",
        "colab_type": "code",
        "colab": {}
      },
      "source": [
        "digits = load_digits()\n",
        "x_load_digits = digits.data\n",
        "y_load_digits = digits.target"
      ],
      "execution_count": null,
      "outputs": []
    },
    {
      "cell_type": "code",
      "metadata": {
        "id": "gWd4p8KFMhw6",
        "colab_type": "code",
        "colab": {}
      },
      "source": [
        "x_digits = pd.DataFrame(x_load_digits)\n",
        "y_digits = pd.DataFrame(y_load_digits)\n",
        "print(x_digits.shape)\n",
        "print(y_digits.shape)"
      ],
      "execution_count": null,
      "outputs": []
    },
    {
      "cell_type": "code",
      "metadata": {
        "id": "O_5_HKlsMh0K",
        "colab_type": "code",
        "colab": {}
      },
      "source": [
        "sc = StandardScaler()\n",
        "x_digits = pd.DataFrame(sc.fit_transform(x_digits))"
      ],
      "execution_count": null,
      "outputs": []
    },
    {
      "cell_type": "code",
      "metadata": {
        "id": "-nTMYuQUMh2T",
        "colab_type": "code",
        "colab": {}
      },
      "source": [
        "y_digits = to_categorical(y_digits)\n",
        "x_train, x_test, y_train, y_test = train_test_split(x_digits, y_digits, test_size = 0.2, shuffle = True)\n",
        "x_dev, x_test, y_dev, y_test = train_test_split(x_test, y_test, test_size = 0.5, shuffle = True)\n",
        "print(x_train.shape, y_train.shape)\n",
        "print(x_dev.shape, y_dev.shape)\n",
        "print(x_test.shape, y_test.shape)"
      ],
      "execution_count": null,
      "outputs": []
    },
    {
      "cell_type": "code",
      "metadata": {
        "id": "qYuUq4QRMh64",
        "colab_type": "code",
        "colab": {}
      },
      "source": [
        "nn_digits = models.Sequential()\n",
        "\n",
        "nn_digits.add(layers.Dense(128, activation = 'relu', input_shape = (64, )))\n",
        "nn_digits.add(layers.Dense(64, activation = 'relu'))\n",
        "nn_digits.add(layers.Dense(10, activation = 'softmax'))\n",
        "\n",
        "nn_digits.compile(optimizer = 'sgd', loss = 'categorical_crossentropy', metrics = ['accuracy'])\n"
      ],
      "execution_count": null,
      "outputs": []
    },
    {
      "cell_type": "code",
      "metadata": {
        "id": "Su2xwA6NMh_Q",
        "colab_type": "code",
        "colab": {}
      },
      "source": [
        "digits_history = nn_digits.fit(x_train, y_train, epochs = 30, validation_data = (x_dev, y_dev))\n",
        "\n",
        "digits_dev_acc = nn_digits.evaluate(x_dev, y_dev)[1]\n",
        "print('The dev accuracy is', digits_dev_acc)"
      ],
      "execution_count": null,
      "outputs": []
    },
    {
      "cell_type": "code",
      "metadata": {
        "id": "jdUcefgIMiBk",
        "colab_type": "code",
        "colab": {}
      },
      "source": [
        "plt.figure(figsize = (10,7))\n",
        "plt.plot(digits_history.history['accuracy'], color = 'blue')\n",
        "plt.plot(digits_history.history['val_accuracy'], color = 'red')\n",
        "plt.title('Model accuracy')\n",
        "plt.ylabel('Accuracy')\n",
        "plt.xlabel('Epoch')\n",
        "plt.legend(['Train', 'Validation'], loc='upper left')\n",
        "plt.show()\n",
        "\n",
        "plt.figure(figsize = (10,7))\n",
        "plt.plot(digits_history.history['loss'], color = 'blue')\n",
        "plt.plot(digits_history.history['val_loss'], color = 'red')\n",
        "# plt.ylim((0,3))\n",
        "plt.title('Model loss')\n",
        "plt.ylabel('Loss')\n",
        "plt.xlabel('Epoch')\n",
        "plt.legend(['Train', 'Validation'], loc='upper left')\n",
        "plt.show()\n"
      ],
      "execution_count": null,
      "outputs": []
    },
    {
      "cell_type": "code",
      "metadata": {
        "id": "BdAE1wWPMiFY",
        "colab_type": "code",
        "colab": {}
      },
      "source": [
        "digits_test_acc = nn_digits.evaluate(x_test, y_test)[1]\n",
        "print('The test accuracy is', digits_test_acc)"
      ],
      "execution_count": null,
      "outputs": []
    },
    {
      "cell_type": "code",
      "metadata": {
        "id": "NORIiMRVMiMO",
        "colab_type": "code",
        "colab": {}
      },
      "source": [
        "wine = load_wine()\n",
        "x_load_wine = wine.data\n",
        "y_load_wine = wine.target"
      ],
      "execution_count": null,
      "outputs": []
    },
    {
      "cell_type": "code",
      "metadata": {
        "id": "SF4JeWRkMh50",
        "colab_type": "code",
        "colab": {}
      },
      "source": [
        "x_wine = pd.DataFrame(x_load_wine)\n",
        "y_wine = pd.DataFrame(y_load_wine)\n",
        "print(x_wine.shape)\n",
        "print(y_wine.shape)"
      ],
      "execution_count": null,
      "outputs": []
    },
    {
      "cell_type": "code",
      "metadata": {
        "id": "rlzNhdD6Mhvg",
        "colab_type": "code",
        "colab": {}
      },
      "source": [
        "sc = StandardScaler()\n",
        "x_wine = pd.DataFrame(sc.fit_transform(x_wine))"
      ],
      "execution_count": null,
      "outputs": []
    },
    {
      "cell_type": "code",
      "metadata": {
        "id": "VI-AT2emMhqk",
        "colab_type": "code",
        "colab": {}
      },
      "source": [
        "y_wine = to_categorical(y_wine)\n",
        "x_train, x_test, y_train, y_test = train_test_split(x_wine, y_wine, test_size = 0.2, shuffle = True)\n",
        "x_dev, x_test, y_dev, y_test = train_test_split(x_test, y_test, test_size = 0.5, shuffle = True)\n",
        "print(x_train.shape, y_train.shape)\n",
        "print(x_dev.shape, y_dev.shape)\n",
        "print(x_test.shape, y_test.shape)\n"
      ],
      "execution_count": null,
      "outputs": []
    },
    {
      "cell_type": "code",
      "metadata": {
        "id": "oZAmNeMkNPCU",
        "colab_type": "code",
        "colab": {}
      },
      "source": [
        "nn_wine = models.Sequential()\n",
        "\n",
        "nn_wine.add(layers.Dense(128, activation = 'relu', input_shape = (13, )))\n",
        "nn_wine.add(layers.Dense(32, activation = 'relu'))\n",
        "nn_wine.add(layers.Dense(3, activation = 'sigmoid'))\n",
        "\n",
        "nn_wine.compile(optimizer = 'sgd', loss = 'binary_crossentropy', metrics = ['accuracy'])"
      ],
      "execution_count": null,
      "outputs": []
    },
    {
      "cell_type": "code",
      "metadata": {
        "id": "woJXS5UGNPGL",
        "colab_type": "code",
        "colab": {}
      },
      "source": [
        "wine_history = nn_wine.fit(x_train, y_train, epochs = 100, validation_data = (x_dev, y_dev))\n",
        "\n",
        "wine_dev_acc = nn_wine.evaluate(x_dev, y_dev)[1]\n",
        "print('The dev accuracy is', wine_dev_acc)"
      ],
      "execution_count": null,
      "outputs": []
    },
    {
      "cell_type": "code",
      "metadata": {
        "id": "x26TCIGENPIz",
        "colab_type": "code",
        "colab": {}
      },
      "source": [
        "plt.figure(figsize = (10,7))\n",
        "plt.plot(wine_history.history['accuracy'], color = 'blue')\n",
        "plt.plot(wine_history.history['val_accuracy'], color = 'red')\n",
        "plt.title('Model accuracy')\n",
        "plt.ylabel('Accuracy')\n",
        "plt.xlabel('Epoch')\n",
        "plt.legend(['Train', 'Validation'], loc='upper left')\n",
        "plt.show()\n",
        "\n",
        "plt.figure(figsize = (10,7))\n",
        "plt.plot(wine_history.history['loss'], color = 'blue')\n",
        "plt.plot(wine_history.history['val_loss'], color = 'red')\n",
        "# plt.ylim((0,3))\n",
        "plt.title('Model loss')\n",
        "plt.ylabel('Loss')\n",
        "plt.xlabel('Epoch')\n",
        "plt.legend(['Train', 'Validation'], loc='upper left')\n",
        "plt.show()"
      ],
      "execution_count": null,
      "outputs": []
    },
    {
      "cell_type": "code",
      "metadata": {
        "id": "vNrAU7EENPMV",
        "colab_type": "code",
        "colab": {}
      },
      "source": [
        "wine_test_acc = nn_wine.evaluate(x_test, y_test)[1]\n",
        "print('The test accuracy is', wine_test_acc)"
      ],
      "execution_count": null,
      "outputs": []
    }
  ]
}