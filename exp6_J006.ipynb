{
  "nbformat": 4,
  "nbformat_minor": 0,
  "metadata": {
    "colab": {
      "name": "exp6_J006",
      "provenance": [],
      "authorship_tag": "ABX9TyMmLy1uJ+y4yzAZkz50cxO4",
      "include_colab_link": true
    },
    "kernelspec": {
      "name": "python3",
      "display_name": "Python 3"
    }
  },
  "cells": [
    {
      "cell_type": "markdown",
      "metadata": {
        "id": "view-in-github",
        "colab_type": "text"
      },
      "source": [
        "<a href=\"https://colab.research.google.com/github/rajbhadalia/ML.01/blob/master/exp6_J006.ipynb\" target=\"_parent\"><img src=\"https://colab.research.google.com/assets/colab-badge.svg\" alt=\"Open In Colab\"/></a>"
      ]
    },
    {
      "cell_type": "code",
      "metadata": {
        "id": "tn41btxP4Tqi",
        "colab_type": "code",
        "colab": {}
      },
      "source": [
        "import numpy as np\n",
        "import pandas as pd\n",
        "\n",
        "import matplotlib.pyplot as plt\n",
        "import seaborn as sns\n",
        "\n",
        "from sklearn.model_selection import train_test_split, cross_val_score\n",
        "from sklearn.preprocessing import StandardScaler\n",
        "\n",
        "import warnings\n",
        "warnings.filterwarnings('ignore')\n",
        "\n",
        "np.random.seed(27)"
      ],
      "execution_count": 21,
      "outputs": []
    },
    {
      "cell_type": "code",
      "metadata": {
        "id": "CNIhk5Pz4WDE",
        "colab_type": "code",
        "colab": {
          "base_uri": "https://localhost:8080/",
          "height": 569
        },
        "outputId": "ef21015d-913e-425f-ed43-3e99c4549fd8"
      },
      "source": [
        "!wget -O 2011gcn.csv https://raw.githubusercontent.com/pranavn91/blockchain/master/2011gcn.csv\n",
        "!wget -O tx2011partvertices_new.csv https://raw.githubusercontent.com/pranavn91/blockchain/master/tx2011partvertices_new.csv\n",
        "!wget -O tx2011partvertices.csv https://raw.githubusercontent.com/pranavn91/blockchain/master/tx2011partvertices.csv\n",
        " \n",
        "train1 = pd.read_csv('2011gcn.csv')\n",
        "train2 = pd.read_csv('tx2011partvertices_new.csv')\n",
        "train3 = pd.read_csv('tx2011partvertices.csv')"
      ],
      "execution_count": 22,
      "outputs": [
        {
          "output_type": "stream",
          "text": [
            "--2020-09-03 12:28:08--  https://raw.githubusercontent.com/pranavn91/blockchain/master/2011gcn.csv\n",
            "Resolving raw.githubusercontent.com (raw.githubusercontent.com)... 151.101.0.133, 151.101.64.133, 151.101.128.133, ...\n",
            "Connecting to raw.githubusercontent.com (raw.githubusercontent.com)|151.101.0.133|:443... connected.\n",
            "HTTP request sent, awaiting response... 200 OK\n",
            "Length: 12563086 (12M) [text/plain]\n",
            "Saving to: ‘2011gcn.csv’\n",
            "\n",
            "2011gcn.csv         100%[===================>]  11.98M  27.7MB/s    in 0.4s    \n",
            "\n",
            "2020-09-03 12:28:09 (27.7 MB/s) - ‘2011gcn.csv’ saved [12563086/12563086]\n",
            "\n",
            "--2020-09-03 12:28:10--  https://raw.githubusercontent.com/pranavn91/blockchain/master/tx2011partvertices_new.csv\n",
            "Resolving raw.githubusercontent.com (raw.githubusercontent.com)... 151.101.0.133, 151.101.64.133, 151.101.128.133, ...\n",
            "Connecting to raw.githubusercontent.com (raw.githubusercontent.com)|151.101.0.133|:443... connected.\n",
            "HTTP request sent, awaiting response... 200 OK\n",
            "Length: 12501458 (12M) [text/plain]\n",
            "Saving to: ‘tx2011partvertices_new.csv’\n",
            "\n",
            "tx2011partvertices_ 100%[===================>]  11.92M  29.2MB/s    in 0.4s    \n",
            "\n",
            "2020-09-03 12:28:10 (29.2 MB/s) - ‘tx2011partvertices_new.csv’ saved [12501458/12501458]\n",
            "\n",
            "--2020-09-03 12:28:11--  https://raw.githubusercontent.com/pranavn91/blockchain/master/tx2011partvertices.csv\n",
            "Resolving raw.githubusercontent.com (raw.githubusercontent.com)... 151.101.0.133, 151.101.64.133, 151.101.128.133, ...\n",
            "Connecting to raw.githubusercontent.com (raw.githubusercontent.com)|151.101.0.133|:443... connected.\n",
            "HTTP request sent, awaiting response... 200 OK\n",
            "Length: 1934257 (1.8M) [text/plain]\n",
            "Saving to: ‘tx2011partvertices.csv’\n",
            "\n",
            "tx2011partvertices. 100%[===================>]   1.84M  9.14MB/s    in 0.2s    \n",
            "\n",
            "2020-09-03 12:28:11 (9.14 MB/s) - ‘tx2011partvertices.csv’ saved [1934257/1934257]\n",
            "\n"
          ],
          "name": "stdout"
        }
      ]
    },
    {
      "cell_type": "code",
      "metadata": {
        "id": "HKDyJN0-4WG9",
        "colab_type": "code",
        "colab": {
          "base_uri": "https://localhost:8080/",
          "height": 67
        },
        "outputId": "e835ce44-8578-4fa4-c424-4c479277cff3"
      },
      "source": [
        "print('Train 1 Shape: ', train1.shape)\n",
        "print('Train 2 Shape: ', train2.shape)\n",
        "print('Train 3 Shape: ', train3.shape)"
      ],
      "execution_count": 23,
      "outputs": [
        {
          "output_type": "stream",
          "text": [
            "Train 1 Shape:  (96498, 17)\n",
            "Train 2 Shape:  (96498, 20)\n",
            "Train 3 Shape:  (96498, 2)\n"
          ],
          "name": "stdout"
        }
      ]
    },
    {
      "cell_type": "code",
      "metadata": {
        "id": "qx42pv3E4WL8",
        "colab_type": "code",
        "colab": {
          "base_uri": "https://localhost:8080/",
          "height": 196
        },
        "outputId": "9d0d335d-e648-48b5-d9ba-c493ba19eedc"
      },
      "source": [
        "train1.rename(columns={'Unnamed: 0':'index'}, inplace=True)\n",
        "train1['index'] = train1['index'] + 1\n",
        "train1.head()"
      ],
      "execution_count": 24,
      "outputs": [
        {
          "output_type": "execute_result",
          "data": {
            "text/html": [
              "<div>\n",
              "<style scoped>\n",
              "    .dataframe tbody tr th:only-of-type {\n",
              "        vertical-align: middle;\n",
              "    }\n",
              "\n",
              "    .dataframe tbody tr th {\n",
              "        vertical-align: top;\n",
              "    }\n",
              "\n",
              "    .dataframe thead th {\n",
              "        text-align: right;\n",
              "    }\n",
              "</style>\n",
              "<table border=\"1\" class=\"dataframe\">\n",
              "  <thead>\n",
              "    <tr style=\"text-align: right;\">\n",
              "      <th></th>\n",
              "      <th>index</th>\n",
              "      <th>0</th>\n",
              "      <th>1</th>\n",
              "      <th>2</th>\n",
              "      <th>3</th>\n",
              "      <th>4</th>\n",
              "      <th>5</th>\n",
              "      <th>6</th>\n",
              "      <th>7</th>\n",
              "      <th>8</th>\n",
              "      <th>9</th>\n",
              "      <th>10</th>\n",
              "      <th>11</th>\n",
              "      <th>12</th>\n",
              "      <th>13</th>\n",
              "      <th>14</th>\n",
              "      <th>15</th>\n",
              "    </tr>\n",
              "  </thead>\n",
              "  <tbody>\n",
              "    <tr>\n",
              "      <th>0</th>\n",
              "      <td>1</td>\n",
              "      <td>0.0</td>\n",
              "      <td>4.811244e+07</td>\n",
              "      <td>0.0</td>\n",
              "      <td>0.0</td>\n",
              "      <td>5.298934e+07</td>\n",
              "      <td>0.0</td>\n",
              "      <td>5.215435e+07</td>\n",
              "      <td>0.0</td>\n",
              "      <td>0.0</td>\n",
              "      <td>4.293262e+05</td>\n",
              "      <td>3.994267e+07</td>\n",
              "      <td>6.251989e+07</td>\n",
              "      <td>0.0</td>\n",
              "      <td>0.0</td>\n",
              "      <td>2.670458e+07</td>\n",
              "      <td>8.313858e+07</td>\n",
              "    </tr>\n",
              "    <tr>\n",
              "      <th>1</th>\n",
              "      <td>2</td>\n",
              "      <td>0.0</td>\n",
              "      <td>3.477977e+05</td>\n",
              "      <td>0.0</td>\n",
              "      <td>0.0</td>\n",
              "      <td>3.777575e+05</td>\n",
              "      <td>0.0</td>\n",
              "      <td>3.757520e+05</td>\n",
              "      <td>0.0</td>\n",
              "      <td>0.0</td>\n",
              "      <td>6.889133e+03</td>\n",
              "      <td>3.001618e+05</td>\n",
              "      <td>4.527358e+05</td>\n",
              "      <td>0.0</td>\n",
              "      <td>0.0</td>\n",
              "      <td>1.915057e+05</td>\n",
              "      <td>6.009039e+05</td>\n",
              "    </tr>\n",
              "    <tr>\n",
              "      <th>2</th>\n",
              "      <td>3</td>\n",
              "      <td>0.0</td>\n",
              "      <td>6.455196e+07</td>\n",
              "      <td>0.0</td>\n",
              "      <td>0.0</td>\n",
              "      <td>7.110790e+07</td>\n",
              "      <td>0.0</td>\n",
              "      <td>6.997804e+07</td>\n",
              "      <td>0.0</td>\n",
              "      <td>0.0</td>\n",
              "      <td>5.670157e+05</td>\n",
              "      <td>5.356332e+07</td>\n",
              "      <td>8.388026e+07</td>\n",
              "      <td>0.0</td>\n",
              "      <td>0.0</td>\n",
              "      <td>3.583296e+07</td>\n",
              "      <td>1.115463e+08</td>\n",
              "    </tr>\n",
              "    <tr>\n",
              "      <th>3</th>\n",
              "      <td>4</td>\n",
              "      <td>0.0</td>\n",
              "      <td>2.009876e+08</td>\n",
              "      <td>0.0</td>\n",
              "      <td>0.0</td>\n",
              "      <td>2.214679e+08</td>\n",
              "      <td>0.0</td>\n",
              "      <td>2.174101e+08</td>\n",
              "      <td>0.0</td>\n",
              "      <td>0.0</td>\n",
              "      <td>1.342720e+06</td>\n",
              "      <td>1.665389e+08</td>\n",
              "      <td>2.614420e+08</td>\n",
              "      <td>0.0</td>\n",
              "      <td>0.0</td>\n",
              "      <td>1.116514e+08</td>\n",
              "      <td>3.472892e+08</td>\n",
              "    </tr>\n",
              "    <tr>\n",
              "      <th>4</th>\n",
              "      <td>5</td>\n",
              "      <td>0.0</td>\n",
              "      <td>2.384675e+05</td>\n",
              "      <td>0.0</td>\n",
              "      <td>0.0</td>\n",
              "      <td>2.597246e+05</td>\n",
              "      <td>0.0</td>\n",
              "      <td>2.577884e+05</td>\n",
              "      <td>0.0</td>\n",
              "      <td>0.0</td>\n",
              "      <td>4.202993e+03</td>\n",
              "      <td>2.042845e+05</td>\n",
              "      <td>3.103489e+05</td>\n",
              "      <td>0.0</td>\n",
              "      <td>0.0</td>\n",
              "      <td>1.315073e+05</td>\n",
              "      <td>4.120424e+05</td>\n",
              "    </tr>\n",
              "  </tbody>\n",
              "</table>\n",
              "</div>"
            ],
            "text/plain": [
              "   index    0             1    2  ...   12   13            14            15\n",
              "0      1  0.0  4.811244e+07  0.0  ...  0.0  0.0  2.670458e+07  8.313858e+07\n",
              "1      2  0.0  3.477977e+05  0.0  ...  0.0  0.0  1.915057e+05  6.009039e+05\n",
              "2      3  0.0  6.455196e+07  0.0  ...  0.0  0.0  3.583296e+07  1.115463e+08\n",
              "3      4  0.0  2.009876e+08  0.0  ...  0.0  0.0  1.116514e+08  3.472892e+08\n",
              "4      5  0.0  2.384675e+05  0.0  ...  0.0  0.0  1.315073e+05  4.120424e+05\n",
              "\n",
              "[5 rows x 17 columns]"
            ]
          },
          "metadata": {
            "tags": []
          },
          "execution_count": 24
        }
      ]
    },
    {
      "cell_type": "code",
      "metadata": {
        "id": "gQEE4kJT4WOI",
        "colab_type": "code",
        "colab": {
          "base_uri": "https://localhost:8080/",
          "height": 216
        },
        "outputId": "7f845e7b-d6e4-4d44-a0fa-6eee32ab096a"
      },
      "source": [
        "train2.rename(columns={'Unnamed: 0':'index'}, inplace=True)\n",
        "train2.head()"
      ],
      "execution_count": 25,
      "outputs": [
        {
          "output_type": "execute_result",
          "data": {
            "text/html": [
              "<div>\n",
              "<style scoped>\n",
              "    .dataframe tbody tr th:only-of-type {\n",
              "        vertical-align: middle;\n",
              "    }\n",
              "\n",
              "    .dataframe tbody tr th {\n",
              "        vertical-align: top;\n",
              "    }\n",
              "\n",
              "    .dataframe thead th {\n",
              "        text-align: right;\n",
              "    }\n",
              "</style>\n",
              "<table border=\"1\" class=\"dataframe\">\n",
              "  <thead>\n",
              "    <tr style=\"text-align: right;\">\n",
              "      <th></th>\n",
              "      <th>index</th>\n",
              "      <th>txsize</th>\n",
              "      <th>txvirtualsize</th>\n",
              "      <th>txinputs_count</th>\n",
              "      <th>txoutputs_count</th>\n",
              "      <th>txinput_val</th>\n",
              "      <th>txoutput_val</th>\n",
              "      <th>txfee</th>\n",
              "      <th>Min_received</th>\n",
              "      <th>Max_received</th>\n",
              "      <th>Avg_received</th>\n",
              "      <th>Total_received</th>\n",
              "      <th>Stdev_received</th>\n",
              "      <th>Var_received</th>\n",
              "      <th>Min_sent</th>\n",
              "      <th>Max_sent</th>\n",
              "      <th>Avg_sent</th>\n",
              "      <th>Total_sent</th>\n",
              "      <th>Stdev_sent</th>\n",
              "      <th>Var_sent</th>\n",
              "    </tr>\n",
              "  </thead>\n",
              "  <tbody>\n",
              "    <tr>\n",
              "      <th>0</th>\n",
              "      <td>1</td>\n",
              "      <td>7369</td>\n",
              "      <td>7369</td>\n",
              "      <td>5</td>\n",
              "      <td>190</td>\n",
              "      <td>215000000.0</td>\n",
              "      <td>214600000.0</td>\n",
              "      <td>400000</td>\n",
              "      <td>0.0005</td>\n",
              "      <td>1.0000</td>\n",
              "      <td>0.011295</td>\n",
              "      <td>2.1460</td>\n",
              "      <td>0.081163</td>\n",
              "      <td>0.006587</td>\n",
              "      <td>0.0005</td>\n",
              "      <td>1.6700</td>\n",
              "      <td>0.4300</td>\n",
              "      <td>2.1500</td>\n",
              "      <td>0.703445</td>\n",
              "      <td>0.494835</td>\n",
              "    </tr>\n",
              "    <tr>\n",
              "      <th>1</th>\n",
              "      <td>2</td>\n",
              "      <td>293</td>\n",
              "      <td>293</td>\n",
              "      <td>1</td>\n",
              "      <td>3</td>\n",
              "      <td>4400000.0</td>\n",
              "      <td>4350000.0</td>\n",
              "      <td>50000</td>\n",
              "      <td>0.0010</td>\n",
              "      <td>0.0415</td>\n",
              "      <td>0.014500</td>\n",
              "      <td>0.0435</td>\n",
              "      <td>0.023383</td>\n",
              "      <td>0.000547</td>\n",
              "      <td>0.0440</td>\n",
              "      <td>0.0440</td>\n",
              "      <td>0.0440</td>\n",
              "      <td>0.0440</td>\n",
              "      <td>0.000000</td>\n",
              "      <td>0.000000</td>\n",
              "    </tr>\n",
              "    <tr>\n",
              "      <th>2</th>\n",
              "      <td>3</td>\n",
              "      <td>11139</td>\n",
              "      <td>11139</td>\n",
              "      <td>1</td>\n",
              "      <td>322</td>\n",
              "      <td>125000000.0</td>\n",
              "      <td>124400000.0</td>\n",
              "      <td>600000</td>\n",
              "      <td>0.0010</td>\n",
              "      <td>0.4460</td>\n",
              "      <td>0.003863</td>\n",
              "      <td>1.2440</td>\n",
              "      <td>0.024941</td>\n",
              "      <td>0.000622</td>\n",
              "      <td>1.2500</td>\n",
              "      <td>1.2500</td>\n",
              "      <td>1.2500</td>\n",
              "      <td>1.2500</td>\n",
              "      <td>0.000000</td>\n",
              "      <td>0.000000</td>\n",
              "    </tr>\n",
              "    <tr>\n",
              "      <th>3</th>\n",
              "      <td>4</td>\n",
              "      <td>495</td>\n",
              "      <td>495</td>\n",
              "      <td>1</td>\n",
              "      <td>9</td>\n",
              "      <td>27450000.0</td>\n",
              "      <td>27400000.0</td>\n",
              "      <td>50000</td>\n",
              "      <td>0.0010</td>\n",
              "      <td>0.2660</td>\n",
              "      <td>0.030444</td>\n",
              "      <td>0.2740</td>\n",
              "      <td>0.088333</td>\n",
              "      <td>0.007803</td>\n",
              "      <td>0.2745</td>\n",
              "      <td>0.2745</td>\n",
              "      <td>0.2745</td>\n",
              "      <td>0.2745</td>\n",
              "      <td>0.000000</td>\n",
              "      <td>0.000000</td>\n",
              "    </tr>\n",
              "    <tr>\n",
              "      <th>4</th>\n",
              "      <td>5</td>\n",
              "      <td>462</td>\n",
              "      <td>462</td>\n",
              "      <td>1</td>\n",
              "      <td>8</td>\n",
              "      <td>3000000.0</td>\n",
              "      <td>2950000.0</td>\n",
              "      <td>50000</td>\n",
              "      <td>0.0010</td>\n",
              "      <td>0.0225</td>\n",
              "      <td>0.003687</td>\n",
              "      <td>0.0295</td>\n",
              "      <td>0.007601</td>\n",
              "      <td>0.000058</td>\n",
              "      <td>0.0300</td>\n",
              "      <td>0.0300</td>\n",
              "      <td>0.0300</td>\n",
              "      <td>0.0300</td>\n",
              "      <td>0.000000</td>\n",
              "      <td>0.000000</td>\n",
              "    </tr>\n",
              "  </tbody>\n",
              "</table>\n",
              "</div>"
            ],
            "text/plain": [
              "   index  txsize  txvirtualsize  ...  Total_sent  Stdev_sent  Var_sent\n",
              "0      1    7369           7369  ...      2.1500    0.703445  0.494835\n",
              "1      2     293            293  ...      0.0440    0.000000  0.000000\n",
              "2      3   11139          11139  ...      1.2500    0.000000  0.000000\n",
              "3      4     495            495  ...      0.2745    0.000000  0.000000\n",
              "4      5     462            462  ...      0.0300    0.000000  0.000000\n",
              "\n",
              "[5 rows x 20 columns]"
            ]
          },
          "metadata": {
            "tags": []
          },
          "execution_count": 25
        }
      ]
    },
    {
      "cell_type": "code",
      "metadata": {
        "id": "nuxGsruI4WRb",
        "colab_type": "code",
        "colab": {
          "base_uri": "https://localhost:8080/",
          "height": 196
        },
        "outputId": "e40de0d9-e11c-437f-a8c9-1e313436eec4"
      },
      "source": [
        "train3.rename(columns={'Unnamed: 0':'index'}, inplace=True)\n",
        "train3.head()"
      ],
      "execution_count": 26,
      "outputs": [
        {
          "output_type": "execute_result",
          "data": {
            "text/html": [
              "<div>\n",
              "<style scoped>\n",
              "    .dataframe tbody tr th:only-of-type {\n",
              "        vertical-align: middle;\n",
              "    }\n",
              "\n",
              "    .dataframe tbody tr th {\n",
              "        vertical-align: top;\n",
              "    }\n",
              "\n",
              "    .dataframe thead th {\n",
              "        text-align: right;\n",
              "    }\n",
              "</style>\n",
              "<table border=\"1\" class=\"dataframe\">\n",
              "  <thead>\n",
              "    <tr style=\"text-align: right;\">\n",
              "      <th></th>\n",
              "      <th>index</th>\n",
              "      <th>label</th>\n",
              "    </tr>\n",
              "  </thead>\n",
              "  <tbody>\n",
              "    <tr>\n",
              "      <th>0</th>\n",
              "      <td>1</td>\n",
              "      <td>unclassified</td>\n",
              "    </tr>\n",
              "    <tr>\n",
              "      <th>1</th>\n",
              "      <td>2</td>\n",
              "      <td>donations</td>\n",
              "    </tr>\n",
              "    <tr>\n",
              "      <th>2</th>\n",
              "      <td>3</td>\n",
              "      <td>unclassified</td>\n",
              "    </tr>\n",
              "    <tr>\n",
              "      <th>3</th>\n",
              "      <td>4</td>\n",
              "      <td>donations</td>\n",
              "    </tr>\n",
              "    <tr>\n",
              "      <th>4</th>\n",
              "      <td>5</td>\n",
              "      <td>donations</td>\n",
              "    </tr>\n",
              "  </tbody>\n",
              "</table>\n",
              "</div>"
            ],
            "text/plain": [
              "   index         label\n",
              "0      1  unclassified\n",
              "1      2     donations\n",
              "2      3  unclassified\n",
              "3      4     donations\n",
              "4      5     donations"
            ]
          },
          "metadata": {
            "tags": []
          },
          "execution_count": 26
        }
      ]
    },
    {
      "cell_type": "code",
      "metadata": {
        "id": "8R8inC0_4WTd",
        "colab_type": "code",
        "colab": {
          "base_uri": "https://localhost:8080/",
          "height": 418
        },
        "outputId": "b0c5351c-cd03-4f2f-c1c5-8887f82875e2"
      },
      "source": [
        "train1.info()"
      ],
      "execution_count": 27,
      "outputs": [
        {
          "output_type": "stream",
          "text": [
            "<class 'pandas.core.frame.DataFrame'>\n",
            "RangeIndex: 96498 entries, 0 to 96497\n",
            "Data columns (total 17 columns):\n",
            " #   Column  Non-Null Count  Dtype  \n",
            "---  ------  --------------  -----  \n",
            " 0   index   96498 non-null  int64  \n",
            " 1   0       96498 non-null  float64\n",
            " 2   1       96498 non-null  float64\n",
            " 3   2       96498 non-null  float64\n",
            " 4   3       96498 non-null  float64\n",
            " 5   4       96498 non-null  float64\n",
            " 6   5       96498 non-null  float64\n",
            " 7   6       96498 non-null  float64\n",
            " 8   7       96498 non-null  float64\n",
            " 9   8       96498 non-null  float64\n",
            " 10  9       96498 non-null  float64\n",
            " 11  10      96498 non-null  float64\n",
            " 12  11      96498 non-null  float64\n",
            " 13  12      96498 non-null  float64\n",
            " 14  13      96498 non-null  float64\n",
            " 15  14      96498 non-null  float64\n",
            " 16  15      96498 non-null  float64\n",
            "dtypes: float64(16), int64(1)\n",
            "memory usage: 12.5 MB\n"
          ],
          "name": "stdout"
        }
      ]
    },
    {
      "cell_type": "code",
      "metadata": {
        "id": "YIuOC1n-4WW2",
        "colab_type": "code",
        "colab": {
          "base_uri": "https://localhost:8080/",
          "height": 318
        },
        "outputId": "028dee0a-bdef-4a6d-fc93-a3875efbd9b1"
      },
      "source": [
        "train1.nunique()"
      ],
      "execution_count": 28,
      "outputs": [
        {
          "output_type": "execute_result",
          "data": {
            "text/plain": [
              "index    96498\n",
              "0         1346\n",
              "1        91076\n",
              "2            1\n",
              "3            6\n",
              "4        91097\n",
              "5          544\n",
              "6        91130\n",
              "7            1\n",
              "8          118\n",
              "9        88871\n",
              "10       91233\n",
              "11       91135\n",
              "12           1\n",
              "13           1\n",
              "14       90486\n",
              "15       91001\n",
              "dtype: int64"
            ]
          },
          "metadata": {
            "tags": []
          },
          "execution_count": 28
        }
      ]
    },
    {
      "cell_type": "code",
      "metadata": {
        "id": "5qxwKvzl4WYy",
        "colab_type": "code",
        "colab": {
          "base_uri": "https://localhost:8080/",
          "height": 468
        },
        "outputId": "c6340e29-8951-4d79-cfa0-f5b229593212"
      },
      "source": [
        "train2.info()"
      ],
      "execution_count": 29,
      "outputs": [
        {
          "output_type": "stream",
          "text": [
            "<class 'pandas.core.frame.DataFrame'>\n",
            "RangeIndex: 96498 entries, 0 to 96497\n",
            "Data columns (total 20 columns):\n",
            " #   Column           Non-Null Count  Dtype  \n",
            "---  ------           --------------  -----  \n",
            " 0   index            96498 non-null  int64  \n",
            " 1   txsize           96498 non-null  int64  \n",
            " 2   txvirtualsize    96498 non-null  int64  \n",
            " 3   txinputs_count   96498 non-null  int64  \n",
            " 4   txoutputs_count  96498 non-null  int64  \n",
            " 5   txinput_val      96498 non-null  float64\n",
            " 6   txoutput_val     96498 non-null  float64\n",
            " 7   txfee            96498 non-null  int64  \n",
            " 8   Min_received     96498 non-null  float64\n",
            " 9   Max_received     96498 non-null  float64\n",
            " 10  Avg_received     96498 non-null  float64\n",
            " 11  Total_received   96498 non-null  float64\n",
            " 12  Stdev_received   96498 non-null  float64\n",
            " 13  Var_received     96498 non-null  float64\n",
            " 14  Min_sent         96498 non-null  float64\n",
            " 15  Max_sent         96498 non-null  float64\n",
            " 16  Avg_sent         96498 non-null  float64\n",
            " 17  Total_sent       96498 non-null  float64\n",
            " 18  Stdev_sent       96498 non-null  float64\n",
            " 19  Var_sent         96498 non-null  float64\n",
            "dtypes: float64(14), int64(6)\n",
            "memory usage: 14.7 MB\n"
          ],
          "name": "stdout"
        }
      ]
    },
    {
      "cell_type": "code",
      "metadata": {
        "id": "FM07o56I4Wb3",
        "colab_type": "code",
        "colab": {
          "base_uri": "https://localhost:8080/",
          "height": 167
        },
        "outputId": "672778c1-c0a6-4914-fe9c-86672f91084d"
      },
      "source": [
        "train3.info()"
      ],
      "execution_count": 30,
      "outputs": [
        {
          "output_type": "stream",
          "text": [
            "<class 'pandas.core.frame.DataFrame'>\n",
            "RangeIndex: 96498 entries, 0 to 96497\n",
            "Data columns (total 2 columns):\n",
            " #   Column  Non-Null Count  Dtype \n",
            "---  ------  --------------  ----- \n",
            " 0   index   96498 non-null  int64 \n",
            " 1   label   96498 non-null  object\n",
            "dtypes: int64(1), object(1)\n",
            "memory usage: 1.5+ MB\n"
          ],
          "name": "stdout"
        }
      ]
    },
    {
      "cell_type": "code",
      "metadata": {
        "id": "JvLLAfaN4WeF",
        "colab_type": "code",
        "colab": {}
      },
      "source": [
        "results = pd.merge(train3, train1, on='index', how='inner')\n",
        "\n",
        "# split data into X and y\n",
        "X = results.iloc[:,2:18]\n",
        "Y1 = results['label']"
      ],
      "execution_count": 31,
      "outputs": []
    },
    {
      "cell_type": "code",
      "metadata": {
        "id": "i6X6i2oC4WiE",
        "colab_type": "code",
        "colab": {
          "base_uri": "https://localhost:8080/",
          "height": 404
        },
        "outputId": "d6a2f5ca-62e0-4026-d6cd-19cbd33cc2ee"
      },
      "source": [
        "Y_dummies = pd.get_dummies(Y1)\n",
        "Y = Y_dummies\n",
        "Y"
      ],
      "execution_count": 32,
      "outputs": [
        {
          "output_type": "execute_result",
          "data": {
            "text/html": [
              "<div>\n",
              "<style scoped>\n",
              "    .dataframe tbody tr th:only-of-type {\n",
              "        vertical-align: middle;\n",
              "    }\n",
              "\n",
              "    .dataframe tbody tr th {\n",
              "        vertical-align: top;\n",
              "    }\n",
              "\n",
              "    .dataframe thead th {\n",
              "        text-align: right;\n",
              "    }\n",
              "</style>\n",
              "<table border=\"1\" class=\"dataframe\">\n",
              "  <thead>\n",
              "    <tr style=\"text-align: right;\">\n",
              "      <th></th>\n",
              "      <th>donations</th>\n",
              "      <th>exchange</th>\n",
              "      <th>mixer</th>\n",
              "      <th>paymentgateway</th>\n",
              "      <th>unclassified</th>\n",
              "      <th>wallets</th>\n",
              "    </tr>\n",
              "  </thead>\n",
              "  <tbody>\n",
              "    <tr>\n",
              "      <th>0</th>\n",
              "      <td>0</td>\n",
              "      <td>0</td>\n",
              "      <td>0</td>\n",
              "      <td>0</td>\n",
              "      <td>1</td>\n",
              "      <td>0</td>\n",
              "    </tr>\n",
              "    <tr>\n",
              "      <th>1</th>\n",
              "      <td>1</td>\n",
              "      <td>0</td>\n",
              "      <td>0</td>\n",
              "      <td>0</td>\n",
              "      <td>0</td>\n",
              "      <td>0</td>\n",
              "    </tr>\n",
              "    <tr>\n",
              "      <th>2</th>\n",
              "      <td>0</td>\n",
              "      <td>0</td>\n",
              "      <td>0</td>\n",
              "      <td>0</td>\n",
              "      <td>1</td>\n",
              "      <td>0</td>\n",
              "    </tr>\n",
              "    <tr>\n",
              "      <th>3</th>\n",
              "      <td>1</td>\n",
              "      <td>0</td>\n",
              "      <td>0</td>\n",
              "      <td>0</td>\n",
              "      <td>0</td>\n",
              "      <td>0</td>\n",
              "    </tr>\n",
              "    <tr>\n",
              "      <th>4</th>\n",
              "      <td>1</td>\n",
              "      <td>0</td>\n",
              "      <td>0</td>\n",
              "      <td>0</td>\n",
              "      <td>0</td>\n",
              "      <td>0</td>\n",
              "    </tr>\n",
              "    <tr>\n",
              "      <th>...</th>\n",
              "      <td>...</td>\n",
              "      <td>...</td>\n",
              "      <td>...</td>\n",
              "      <td>...</td>\n",
              "      <td>...</td>\n",
              "      <td>...</td>\n",
              "    </tr>\n",
              "    <tr>\n",
              "      <th>96493</th>\n",
              "      <td>1</td>\n",
              "      <td>0</td>\n",
              "      <td>0</td>\n",
              "      <td>0</td>\n",
              "      <td>0</td>\n",
              "      <td>0</td>\n",
              "    </tr>\n",
              "    <tr>\n",
              "      <th>96494</th>\n",
              "      <td>1</td>\n",
              "      <td>0</td>\n",
              "      <td>0</td>\n",
              "      <td>0</td>\n",
              "      <td>0</td>\n",
              "      <td>0</td>\n",
              "    </tr>\n",
              "    <tr>\n",
              "      <th>96495</th>\n",
              "      <td>1</td>\n",
              "      <td>0</td>\n",
              "      <td>0</td>\n",
              "      <td>0</td>\n",
              "      <td>0</td>\n",
              "      <td>0</td>\n",
              "    </tr>\n",
              "    <tr>\n",
              "      <th>96496</th>\n",
              "      <td>0</td>\n",
              "      <td>1</td>\n",
              "      <td>0</td>\n",
              "      <td>0</td>\n",
              "      <td>0</td>\n",
              "      <td>0</td>\n",
              "    </tr>\n",
              "    <tr>\n",
              "      <th>96497</th>\n",
              "      <td>0</td>\n",
              "      <td>1</td>\n",
              "      <td>0</td>\n",
              "      <td>0</td>\n",
              "      <td>0</td>\n",
              "      <td>0</td>\n",
              "    </tr>\n",
              "  </tbody>\n",
              "</table>\n",
              "<p>96498 rows × 6 columns</p>\n",
              "</div>"
            ],
            "text/plain": [
              "       donations  exchange  mixer  paymentgateway  unclassified  wallets\n",
              "0              0         0      0               0             1        0\n",
              "1              1         0      0               0             0        0\n",
              "2              0         0      0               0             1        0\n",
              "3              1         0      0               0             0        0\n",
              "4              1         0      0               0             0        0\n",
              "...          ...       ...    ...             ...           ...      ...\n",
              "96493          1         0      0               0             0        0\n",
              "96494          1         0      0               0             0        0\n",
              "96495          1         0      0               0             0        0\n",
              "96496          0         1      0               0             0        0\n",
              "96497          0         1      0               0             0        0\n",
              "\n",
              "[96498 rows x 6 columns]"
            ]
          },
          "metadata": {
            "tags": []
          },
          "execution_count": 32
        }
      ]
    },
    {
      "cell_type": "code",
      "metadata": {
        "id": "md-D4mJY4WBt",
        "colab_type": "code",
        "colab": {
          "base_uri": "https://localhost:8080/",
          "height": 117
        },
        "outputId": "3be7ba96-8c0f-4eca-a355-8f700847bd63"
      },
      "source": [
        "seed = 7\n",
        "test_size = 0.4\n",
        "x_train, x_test, y_train, y_test = train_test_split(X, Y, test_size=test_size, random_state=seed)\n",
        "x_val, x_test, y_val, y_test = train_test_split(x_test, y_test, test_size= 0.5, random_state=seed)\n",
        "print(x_train.shape)\n",
        "print(x_val.shape)\n",
        "print(x_test.shape)\n",
        "print(y_train.shape)\n",
        "print(y_val.shape)\n",
        "print(y_test.shape)"
      ],
      "execution_count": 33,
      "outputs": [
        {
          "output_type": "stream",
          "text": [
            "(57898, 16)\n",
            "(19300, 16)\n",
            "(19300, 16)\n",
            "(57898, 6)\n",
            "(19300, 6)\n",
            "(19300, 6)\n"
          ],
          "name": "stdout"
        }
      ]
    },
    {
      "cell_type": "code",
      "metadata": {
        "id": "99BWuWI55GJP",
        "colab_type": "code",
        "colab": {}
      },
      "source": [
        "from keras import models\n",
        "from keras import layers\n",
        "nn=models.Sequential()"
      ],
      "execution_count": 34,
      "outputs": []
    },
    {
      "cell_type": "code",
      "metadata": {
        "id": "ad1TbWYi5GOQ",
        "colab_type": "code",
        "colab": {}
      },
      "source": [
        "nn.add(layers.Dense(1024,activation = \"relu\",input_shape=(16,))) \n",
        "nn.add(layers.Dense(512,activation='relu'))\n",
        "nn.add(layers.Dense(6,activation='softmax'))"
      ],
      "execution_count": 35,
      "outputs": []
    },
    {
      "cell_type": "code",
      "metadata": {
        "id": "7-l9iEhM5GSG",
        "colab_type": "code",
        "colab": {
          "base_uri": "https://localhost:8080/",
          "height": 251
        },
        "outputId": "56a32ad9-65d9-4a0d-c5f1-7d0705403c4f"
      },
      "source": [
        "nn.summary()"
      ],
      "execution_count": 36,
      "outputs": [
        {
          "output_type": "stream",
          "text": [
            "Model: \"sequential_1\"\n",
            "_________________________________________________________________\n",
            "Layer (type)                 Output Shape              Param #   \n",
            "=================================================================\n",
            "dense_3 (Dense)              (None, 1024)              17408     \n",
            "_________________________________________________________________\n",
            "dense_4 (Dense)              (None, 512)               524800    \n",
            "_________________________________________________________________\n",
            "dense_5 (Dense)              (None, 6)                 3078      \n",
            "=================================================================\n",
            "Total params: 545,286\n",
            "Trainable params: 545,286\n",
            "Non-trainable params: 0\n",
            "_________________________________________________________________\n"
          ],
          "name": "stdout"
        }
      ]
    },
    {
      "cell_type": "code",
      "metadata": {
        "id": "HBcm7VNO5GUP",
        "colab_type": "code",
        "colab": {}
      },
      "source": [
        "nn.compile(optimizer='sgd',\n",
        "           loss='categorical_crossentropy',\n",
        "           metrics=['accuracy'])"
      ],
      "execution_count": 37,
      "outputs": []
    },
    {
      "cell_type": "code",
      "metadata": {
        "id": "1wk5r_7z5GgY",
        "colab_type": "code",
        "colab": {
          "base_uri": "https://localhost:8080/",
          "height": 1000
        },
        "outputId": "a1195b39-d039-4f42-ad87-35c29ad14595"
      },
      "source": [
        "history = nn.fit(x_train, y_train,batch_size=150,epochs =100,validation_data=(x_val, y_val))"
      ],
      "execution_count": 19,
      "outputs": [
        {
          "output_type": "stream",
          "text": [
            "Epoch 1/100\n",
            "453/453 [==============================] - 8s 17ms/step - loss: nan - accuracy: 0.8312 - val_loss: nan - val_accuracy: 0.8347\n",
            "Epoch 2/100\n",
            "453/453 [==============================] - 7s 16ms/step - loss: nan - accuracy: 0.8331 - val_loss: nan - val_accuracy: 0.8347\n",
            "Epoch 3/100\n",
            "453/453 [==============================] - 7s 16ms/step - loss: nan - accuracy: 0.8331 - val_loss: nan - val_accuracy: 0.8347\n",
            "Epoch 4/100\n",
            "453/453 [==============================] - 7s 16ms/step - loss: nan - accuracy: 0.8331 - val_loss: nan - val_accuracy: 0.8347\n",
            "Epoch 5/100\n",
            "453/453 [==============================] - 7s 15ms/step - loss: nan - accuracy: 0.8331 - val_loss: nan - val_accuracy: 0.8347\n",
            "Epoch 6/100\n",
            "453/453 [==============================] - 7s 16ms/step - loss: nan - accuracy: 0.8331 - val_loss: nan - val_accuracy: 0.8347\n",
            "Epoch 7/100\n",
            "453/453 [==============================] - 7s 16ms/step - loss: nan - accuracy: 0.8331 - val_loss: nan - val_accuracy: 0.8347\n",
            "Epoch 8/100\n",
            "453/453 [==============================] - 7s 16ms/step - loss: nan - accuracy: 0.8331 - val_loss: nan - val_accuracy: 0.8347\n",
            "Epoch 9/100\n",
            "453/453 [==============================] - 7s 16ms/step - loss: nan - accuracy: 0.8331 - val_loss: nan - val_accuracy: 0.8347\n",
            "Epoch 10/100\n",
            "453/453 [==============================] - 7s 16ms/step - loss: nan - accuracy: 0.8331 - val_loss: nan - val_accuracy: 0.8347\n",
            "Epoch 11/100\n",
            "453/453 [==============================] - 7s 16ms/step - loss: nan - accuracy: 0.8331 - val_loss: nan - val_accuracy: 0.8347\n",
            "Epoch 12/100\n",
            "453/453 [==============================] - 7s 16ms/step - loss: nan - accuracy: 0.8331 - val_loss: nan - val_accuracy: 0.8347\n",
            "Epoch 13/100\n",
            "453/453 [==============================] - 7s 16ms/step - loss: nan - accuracy: 0.8331 - val_loss: nan - val_accuracy: 0.8347\n",
            "Epoch 14/100\n",
            "453/453 [==============================] - 7s 16ms/step - loss: nan - accuracy: 0.8331 - val_loss: nan - val_accuracy: 0.8347\n",
            "Epoch 15/100\n",
            "453/453 [==============================] - 7s 16ms/step - loss: nan - accuracy: 0.8331 - val_loss: nan - val_accuracy: 0.8347\n",
            "Epoch 16/100\n",
            "453/453 [==============================] - 7s 16ms/step - loss: nan - accuracy: 0.8331 - val_loss: nan - val_accuracy: 0.8347\n",
            "Epoch 17/100\n",
            "453/453 [==============================] - 7s 16ms/step - loss: nan - accuracy: 0.8331 - val_loss: nan - val_accuracy: 0.8347\n",
            "Epoch 18/100\n",
            "453/453 [==============================] - 7s 16ms/step - loss: nan - accuracy: 0.8331 - val_loss: nan - val_accuracy: 0.8347\n",
            "Epoch 19/100\n",
            "453/453 [==============================] - 7s 16ms/step - loss: nan - accuracy: 0.8331 - val_loss: nan - val_accuracy: 0.8347\n",
            "Epoch 20/100\n",
            "453/453 [==============================] - 7s 16ms/step - loss: nan - accuracy: 0.8331 - val_loss: nan - val_accuracy: 0.8347\n",
            "Epoch 21/100\n",
            "453/453 [==============================] - 7s 16ms/step - loss: nan - accuracy: 0.8331 - val_loss: nan - val_accuracy: 0.8347\n",
            "Epoch 22/100\n",
            "453/453 [==============================] - 7s 16ms/step - loss: nan - accuracy: 0.8331 - val_loss: nan - val_accuracy: 0.8347\n",
            "Epoch 23/100\n",
            "453/453 [==============================] - 7s 16ms/step - loss: nan - accuracy: 0.8331 - val_loss: nan - val_accuracy: 0.8347\n",
            "Epoch 24/100\n",
            "453/453 [==============================] - 7s 16ms/step - loss: nan - accuracy: 0.8331 - val_loss: nan - val_accuracy: 0.8347\n",
            "Epoch 25/100\n",
            "453/453 [==============================] - 7s 16ms/step - loss: nan - accuracy: 0.8331 - val_loss: nan - val_accuracy: 0.8347\n",
            "Epoch 26/100\n",
            "453/453 [==============================] - 7s 16ms/step - loss: nan - accuracy: 0.8331 - val_loss: nan - val_accuracy: 0.8347\n",
            "Epoch 27/100\n",
            "453/453 [==============================] - 7s 16ms/step - loss: nan - accuracy: 0.8331 - val_loss: nan - val_accuracy: 0.8347\n",
            "Epoch 28/100\n",
            "453/453 [==============================] - 7s 16ms/step - loss: nan - accuracy: 0.8331 - val_loss: nan - val_accuracy: 0.8347\n",
            "Epoch 29/100\n",
            "453/453 [==============================] - 7s 15ms/step - loss: nan - accuracy: 0.8331 - val_loss: nan - val_accuracy: 0.8347\n",
            "Epoch 30/100\n",
            "453/453 [==============================] - 7s 16ms/step - loss: nan - accuracy: 0.8331 - val_loss: nan - val_accuracy: 0.8347\n",
            "Epoch 31/100\n",
            "453/453 [==============================] - 7s 16ms/step - loss: nan - accuracy: 0.8331 - val_loss: nan - val_accuracy: 0.8347\n",
            "Epoch 32/100\n",
            "453/453 [==============================] - 7s 16ms/step - loss: nan - accuracy: 0.8331 - val_loss: nan - val_accuracy: 0.8347\n",
            "Epoch 33/100\n",
            "453/453 [==============================] - 7s 16ms/step - loss: nan - accuracy: 0.8331 - val_loss: nan - val_accuracy: 0.8347\n",
            "Epoch 34/100\n",
            "453/453 [==============================] - 7s 16ms/step - loss: nan - accuracy: 0.8331 - val_loss: nan - val_accuracy: 0.8347\n",
            "Epoch 35/100\n",
            "453/453 [==============================] - 7s 16ms/step - loss: nan - accuracy: 0.8331 - val_loss: nan - val_accuracy: 0.8347\n",
            "Epoch 36/100\n",
            "453/453 [==============================] - 7s 16ms/step - loss: nan - accuracy: 0.8331 - val_loss: nan - val_accuracy: 0.8347\n",
            "Epoch 37/100\n",
            "453/453 [==============================] - 7s 16ms/step - loss: nan - accuracy: 0.8331 - val_loss: nan - val_accuracy: 0.8347\n",
            "Epoch 38/100\n",
            "453/453 [==============================] - 7s 16ms/step - loss: nan - accuracy: 0.8331 - val_loss: nan - val_accuracy: 0.8347\n",
            "Epoch 39/100\n",
            "453/453 [==============================] - 7s 16ms/step - loss: nan - accuracy: 0.8331 - val_loss: nan - val_accuracy: 0.8347\n",
            "Epoch 40/100\n",
            "453/453 [==============================] - 7s 16ms/step - loss: nan - accuracy: 0.8331 - val_loss: nan - val_accuracy: 0.8347\n",
            "Epoch 41/100\n",
            "453/453 [==============================] - 7s 16ms/step - loss: nan - accuracy: 0.8331 - val_loss: nan - val_accuracy: 0.8347\n",
            "Epoch 42/100\n",
            "453/453 [==============================] - 7s 16ms/step - loss: nan - accuracy: 0.8331 - val_loss: nan - val_accuracy: 0.8347\n",
            "Epoch 43/100\n",
            "453/453 [==============================] - 7s 16ms/step - loss: nan - accuracy: 0.8331 - val_loss: nan - val_accuracy: 0.8347\n",
            "Epoch 44/100\n",
            "453/453 [==============================] - 7s 16ms/step - loss: nan - accuracy: 0.8331 - val_loss: nan - val_accuracy: 0.8347\n",
            "Epoch 45/100\n",
            "453/453 [==============================] - 7s 16ms/step - loss: nan - accuracy: 0.8331 - val_loss: nan - val_accuracy: 0.8347\n",
            "Epoch 46/100\n",
            "453/453 [==============================] - 7s 16ms/step - loss: nan - accuracy: 0.8331 - val_loss: nan - val_accuracy: 0.8347\n",
            "Epoch 47/100\n",
            "453/453 [==============================] - 7s 16ms/step - loss: nan - accuracy: 0.8331 - val_loss: nan - val_accuracy: 0.8347\n",
            "Epoch 48/100\n",
            "453/453 [==============================] - 7s 16ms/step - loss: nan - accuracy: 0.8331 - val_loss: nan - val_accuracy: 0.8347\n",
            "Epoch 49/100\n",
            "453/453 [==============================] - 7s 16ms/step - loss: nan - accuracy: 0.8331 - val_loss: nan - val_accuracy: 0.8347\n",
            "Epoch 50/100\n",
            "453/453 [==============================] - 7s 16ms/step - loss: nan - accuracy: 0.8331 - val_loss: nan - val_accuracy: 0.8347\n",
            "Epoch 51/100\n",
            "453/453 [==============================] - 7s 16ms/step - loss: nan - accuracy: 0.8331 - val_loss: nan - val_accuracy: 0.8347\n",
            "Epoch 52/100\n",
            "453/453 [==============================] - 7s 16ms/step - loss: nan - accuracy: 0.8331 - val_loss: nan - val_accuracy: 0.8347\n",
            "Epoch 53/100\n",
            "453/453 [==============================] - 7s 16ms/step - loss: nan - accuracy: 0.8331 - val_loss: nan - val_accuracy: 0.8347\n",
            "Epoch 54/100\n",
            "453/453 [==============================] - 7s 16ms/step - loss: nan - accuracy: 0.8331 - val_loss: nan - val_accuracy: 0.8347\n",
            "Epoch 55/100\n",
            "453/453 [==============================] - 7s 16ms/step - loss: nan - accuracy: 0.8331 - val_loss: nan - val_accuracy: 0.8347\n",
            "Epoch 56/100\n",
            "453/453 [==============================] - 7s 16ms/step - loss: nan - accuracy: 0.8331 - val_loss: nan - val_accuracy: 0.8347\n",
            "Epoch 57/100\n",
            "453/453 [==============================] - 7s 16ms/step - loss: nan - accuracy: 0.8331 - val_loss: nan - val_accuracy: 0.8347\n",
            "Epoch 58/100\n",
            "453/453 [==============================] - 7s 16ms/step - loss: nan - accuracy: 0.8331 - val_loss: nan - val_accuracy: 0.8347\n",
            "Epoch 59/100\n",
            "453/453 [==============================] - 7s 16ms/step - loss: nan - accuracy: 0.8331 - val_loss: nan - val_accuracy: 0.8347\n",
            "Epoch 60/100\n",
            "453/453 [==============================] - 7s 16ms/step - loss: nan - accuracy: 0.8331 - val_loss: nan - val_accuracy: 0.8347\n",
            "Epoch 61/100\n",
            "453/453 [==============================] - 7s 16ms/step - loss: nan - accuracy: 0.8331 - val_loss: nan - val_accuracy: 0.8347\n",
            "Epoch 62/100\n",
            "453/453 [==============================] - 7s 16ms/step - loss: nan - accuracy: 0.8331 - val_loss: nan - val_accuracy: 0.8347\n",
            "Epoch 63/100\n",
            "453/453 [==============================] - 7s 16ms/step - loss: nan - accuracy: 0.8331 - val_loss: nan - val_accuracy: 0.8347\n",
            "Epoch 64/100\n",
            "453/453 [==============================] - 7s 16ms/step - loss: nan - accuracy: 0.8331 - val_loss: nan - val_accuracy: 0.8347\n",
            "Epoch 65/100\n",
            "453/453 [==============================] - 7s 16ms/step - loss: nan - accuracy: 0.8331 - val_loss: nan - val_accuracy: 0.8347\n",
            "Epoch 66/100\n",
            "453/453 [==============================] - 7s 16ms/step - loss: nan - accuracy: 0.8331 - val_loss: nan - val_accuracy: 0.8347\n",
            "Epoch 67/100\n",
            "453/453 [==============================] - 7s 16ms/step - loss: nan - accuracy: 0.8331 - val_loss: nan - val_accuracy: 0.8347\n",
            "Epoch 68/100\n",
            "453/453 [==============================] - 7s 16ms/step - loss: nan - accuracy: 0.8331 - val_loss: nan - val_accuracy: 0.8347\n",
            "Epoch 69/100\n",
            "453/453 [==============================] - 7s 16ms/step - loss: nan - accuracy: 0.8331 - val_loss: nan - val_accuracy: 0.8347\n",
            "Epoch 70/100\n",
            "453/453 [==============================] - 7s 16ms/step - loss: nan - accuracy: 0.8331 - val_loss: nan - val_accuracy: 0.8347\n",
            "Epoch 71/100\n",
            "453/453 [==============================] - 7s 16ms/step - loss: nan - accuracy: 0.8331 - val_loss: nan - val_accuracy: 0.8347\n",
            "Epoch 72/100\n",
            "453/453 [==============================] - 7s 16ms/step - loss: nan - accuracy: 0.8331 - val_loss: nan - val_accuracy: 0.8347\n",
            "Epoch 73/100\n",
            "453/453 [==============================] - 7s 16ms/step - loss: nan - accuracy: 0.8331 - val_loss: nan - val_accuracy: 0.8347\n",
            "Epoch 74/100\n",
            "453/453 [==============================] - 7s 16ms/step - loss: nan - accuracy: 0.8331 - val_loss: nan - val_accuracy: 0.8347\n",
            "Epoch 75/100\n",
            "453/453 [==============================] - 7s 16ms/step - loss: nan - accuracy: 0.8331 - val_loss: nan - val_accuracy: 0.8347\n",
            "Epoch 76/100\n",
            "453/453 [==============================] - 7s 16ms/step - loss: nan - accuracy: 0.8331 - val_loss: nan - val_accuracy: 0.8347\n",
            "Epoch 77/100\n",
            "453/453 [==============================] - 7s 16ms/step - loss: nan - accuracy: 0.8331 - val_loss: nan - val_accuracy: 0.8347\n",
            "Epoch 78/100\n",
            "453/453 [==============================] - 7s 16ms/step - loss: nan - accuracy: 0.8331 - val_loss: nan - val_accuracy: 0.8347\n",
            "Epoch 79/100\n",
            "453/453 [==============================] - 7s 16ms/step - loss: nan - accuracy: 0.8331 - val_loss: nan - val_accuracy: 0.8347\n",
            "Epoch 80/100\n",
            "453/453 [==============================] - 7s 16ms/step - loss: nan - accuracy: 0.8331 - val_loss: nan - val_accuracy: 0.8347\n",
            "Epoch 81/100\n",
            "453/453 [==============================] - 7s 16ms/step - loss: nan - accuracy: 0.8331 - val_loss: nan - val_accuracy: 0.8347\n",
            "Epoch 82/100\n",
            "453/453 [==============================] - 7s 16ms/step - loss: nan - accuracy: 0.8331 - val_loss: nan - val_accuracy: 0.8347\n",
            "Epoch 83/100\n",
            "453/453 [==============================] - 7s 16ms/step - loss: nan - accuracy: 0.8331 - val_loss: nan - val_accuracy: 0.8347\n",
            "Epoch 84/100\n",
            "453/453 [==============================] - 7s 16ms/step - loss: nan - accuracy: 0.8331 - val_loss: nan - val_accuracy: 0.8347\n",
            "Epoch 85/100\n",
            "453/453 [==============================] - 7s 16ms/step - loss: nan - accuracy: 0.8331 - val_loss: nan - val_accuracy: 0.8347\n",
            "Epoch 86/100\n",
            "453/453 [==============================] - 7s 16ms/step - loss: nan - accuracy: 0.8331 - val_loss: nan - val_accuracy: 0.8347\n",
            "Epoch 87/100\n",
            "453/453 [==============================] - 8s 17ms/step - loss: nan - accuracy: 0.8331 - val_loss: nan - val_accuracy: 0.8347\n",
            "Epoch 88/100\n",
            "453/453 [==============================] - 7s 16ms/step - loss: nan - accuracy: 0.8331 - val_loss: nan - val_accuracy: 0.8347\n",
            "Epoch 89/100\n",
            "453/453 [==============================] - 7s 16ms/step - loss: nan - accuracy: 0.8331 - val_loss: nan - val_accuracy: 0.8347\n",
            "Epoch 90/100\n",
            "453/453 [==============================] - 7s 16ms/step - loss: nan - accuracy: 0.8331 - val_loss: nan - val_accuracy: 0.8347\n",
            "Epoch 91/100\n",
            "453/453 [==============================] - 7s 16ms/step - loss: nan - accuracy: 0.8331 - val_loss: nan - val_accuracy: 0.8347\n",
            "Epoch 92/100\n",
            "453/453 [==============================] - 7s 16ms/step - loss: nan - accuracy: 0.8331 - val_loss: nan - val_accuracy: 0.8347\n",
            "Epoch 93/100\n",
            "453/453 [==============================] - 7s 16ms/step - loss: nan - accuracy: 0.8331 - val_loss: nan - val_accuracy: 0.8347\n",
            "Epoch 94/100\n",
            "453/453 [==============================] - 7s 16ms/step - loss: nan - accuracy: 0.8331 - val_loss: nan - val_accuracy: 0.8347\n",
            "Epoch 95/100\n",
            "453/453 [==============================] - 7s 16ms/step - loss: nan - accuracy: 0.8331 - val_loss: nan - val_accuracy: 0.8347\n",
            "Epoch 96/100\n",
            "453/453 [==============================] - 7s 16ms/step - loss: nan - accuracy: 0.8331 - val_loss: nan - val_accuracy: 0.8347\n",
            "Epoch 97/100\n",
            "453/453 [==============================] - 7s 16ms/step - loss: nan - accuracy: 0.8331 - val_loss: nan - val_accuracy: 0.8347\n",
            "Epoch 98/100\n",
            "453/453 [==============================] - 7s 16ms/step - loss: nan - accuracy: 0.8331 - val_loss: nan - val_accuracy: 0.8347\n",
            "Epoch 99/100\n",
            "453/453 [==============================] - 7s 15ms/step - loss: nan - accuracy: 0.8331 - val_loss: nan - val_accuracy: 0.8347\n",
            "Epoch 100/100\n",
            "453/453 [==============================] - 7s 16ms/step - loss: nan - accuracy: 0.8331 - val_loss: nan - val_accuracy: 0.8347\n"
          ],
          "name": "stdout"
        }
      ]
    },
    {
      "cell_type": "code",
      "metadata": {
        "id": "zG1qCRVY5Gib",
        "colab_type": "code",
        "colab": {
          "base_uri": "https://localhost:8080/",
          "height": 295
        },
        "outputId": "7a92b8eb-a5c0-49af-f485-5639fc936852"
      },
      "source": [
        "loss_train = history.history['loss']\n",
        "loss_val = history.history['val_loss']\n",
        "epochs = range(1,101)\n",
        "plt.plot(epochs, loss_train, 'g', label='Training loss')\n",
        "plt.plot(epochs, loss_val, 'b', label='validation loss')\n",
        "plt.title('Training and Validation loss')\n",
        "plt.xlabel('Epochs')\n",
        "plt.ylabel('Loss')\n",
        "plt.legend()\n",
        "plt.show()"
      ],
      "execution_count": 20,
      "outputs": [
        {
          "output_type": "display_data",
          "data": {
            "image/png": "[encoded data removed]",
            "text/plain": [
              "<Figure size 432x288 with 1 Axes>"
            ]
          },
          "metadata": {
            "tags": [],
            "needs_background": "light"
          }
        }
      ]
    },
    {
      "cell_type": "code",
      "metadata": {
        "id": "weM7lPtA5GpD",
        "colab_type": "code",
        "colab": {
          "base_uri": "https://localhost:8080/",
          "height": 117
        },
        "outputId": "be0ef932-3e32-4f8e-9327-ff8eb9eccec8"
      },
      "source": [
        "train_loss,train_accuracy = nn.evaluate(x_train,y_train)\n",
        "val_loss,val_accuracy = nn.evaluate(x_val,y_val)\n",
        "test_loss,test_accuracy = nn.evaluate(x_test,y_test)\n",
        "print('Training Accuracy : ',train_accuracy*100,\"%\")\n",
        "print('Val Accuracy : ',val_accuracy*100,\"%\")\n",
        "print('Test Accuracy : ',test_accuracy*100,\"%\")"
      ],
      "execution_count": 38,
      "outputs": [
        {
          "output_type": "stream",
          "text": [
            "1810/1810 [==============================] - 4s 2ms/step - loss: 149396384.0000 - accuracy: 0.0074\n",
            "604/604 [==============================] - 1s 2ms/step - loss: 138088688.0000 - accuracy: 0.0086\n",
            "604/604 [==============================] - 1s 2ms/step - loss: 155522384.0000 - accuracy: 0.0078\n",
            "Training Accuracy :  0.7392310537397861 %\n",
            "Val Accuracy :  0.8601035922765732 %\n",
            "Test Accuracy :  0.7772020529955626 %\n"
          ],
          "name": "stdout"
        }
      ]
    },
    {
      "cell_type": "code",
      "metadata": {
        "id": "AVckeJ9c5Gtx",
        "colab_type": "code",
        "colab": {}
      },
      "source": [
        ""
      ],
      "execution_count": 38,
      "outputs": []
    },
    {
      "cell_type": "code",
      "metadata": {
        "id": "tnZ7qZCo5Gz0",
        "colab_type": "code",
        "colab": {}
      },
      "source": [
        ""
      ],
      "execution_count": 38,
      "outputs": []
    },
    {
      "cell_type": "code",
      "metadata": {
        "id": "h4FTrW0O5Gno",
        "colab_type": "code",
        "colab": {}
      },
      "source": [
        ""
      ],
      "execution_count": 38,
      "outputs": []
    },
    {
      "cell_type": "code",
      "metadata": {
        "id": "L_BCfJbx5GM3",
        "colab_type": "code",
        "colab": {}
      },
      "source": [
        ""
      ],
      "execution_count": 38,
      "outputs": []
    },
    {
      "cell_type": "code",
      "metadata": {
        "id": "fto8y2OZ5GHn",
        "colab_type": "code",
        "colab": {}
      },
      "source": [
        ""
      ],
      "execution_count": 38,
      "outputs": []
    }
  ]
}